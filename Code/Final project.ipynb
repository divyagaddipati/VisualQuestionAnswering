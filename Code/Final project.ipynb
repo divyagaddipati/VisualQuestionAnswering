{
 "cells": [
  {
   "cell_type": "code",
   "execution_count": 1,
   "metadata": {},
   "outputs": [
    {
     "name": "stdout",
     "output_type": "stream",
     "text": [
      "Populating the interactive namespace from numpy and matplotlib\n"
     ]
    },
    {
     "name": "stderr",
     "output_type": "stream",
     "text": [
      "C:\\Users\\dhirajsrivastava\\Anaconda3\\lib\\site-packages\\IPython\\core\\magics\\pylab.py:159: UserWarning: pylab import has clobbered these variables: ['shuffle']\n",
      "`%matplotlib` prevents importing * from pylab and numpy\n",
      "  warn(\"pylab import has clobbered these variables: %s\"  % clobbered +\n"
     ]
    }
   ],
   "source": [
    "import pandas as pd\n",
    "import numpy as np\n",
    "import json\n",
    "import seaborn as sns\n",
    "import pickle\n",
    "import os\n",
    "import pandas as pd\n",
    "import numpy as np\n",
    "import tensorflow as tf\n",
    "import gc\n",
    "import time\n",
    "from sklearn.preprocessing import LabelBinarizer\n",
    "from tensorflow.keras.regularizers import l1,l2\n",
    "from tqdm import tqdm\n",
    "import heapq\n",
    "from sklearn.utils import shuffle\n",
    "%pylab inline\n",
    "import matplotlib.pyplot as plt\n",
    "import matplotlib.image as mpimg\n",
    "import math\n",
    "\n",
    "from sklearn.model_selection import train_test_split\n",
    "from tensorflow.keras.optimizers import Adam, RMSprop\n",
    "import bert\n"
   ]
  },
  {
   "cell_type": "markdown",
   "metadata": {},
   "source": [
    "           Review from here  "
   ]
  },
  {
   "cell_type": "code",
   "execution_count": 2,
   "metadata": {},
   "outputs": [],
   "source": [
    "with open('train_image_dict.pickle', 'rb') as handle:\n",
    "    all_image_dict = pickle.load(handle)"
   ]
  },
  {
   "cell_type": "code",
   "execution_count": 3,
   "metadata": {},
   "outputs": [],
   "source": [
    "with open('val_image_dict.pickle', 'rb') as handle:\n",
    "    val_image_dict = pickle.load(handle)"
   ]
  },
  {
   "cell_type": "code",
   "execution_count": 4,
   "metadata": {},
   "outputs": [],
   "source": [
    "# Get keys\n",
    "oldkeys = list(all_image_dict.keys())\n",
    "# Change \"item\" to \"object\"\n",
    "newkeys = [s.replace('Train', 'train2014/train2014') for s in oldkeys]\n",
    "# Get values\n",
    "vals = list(all_image_dict.values())\n",
    "# Create new dictionary by iterating over both newkeys and vals\n",
    "all_image_dict = {k: v for k, v in zip(newkeys, vals)}"
   ]
  },
  {
   "cell_type": "code",
   "execution_count": 5,
   "metadata": {},
   "outputs": [],
   "source": [
    "# Get keys\n",
    "oldkeys = list(val_image_dict.keys())\n",
    "# Change \"item\" to \"object\"\n",
    "newkeys = [s.replace('Val', 'val2014/val2014') for s in oldkeys]\n",
    "# Get values\n",
    "vals = list(val_image_dict.values())\n",
    "# Create new dictionary by iterating over both newkeys and vals\n",
    "val_image_dict = {k: v for k, v in zip(newkeys, vals)}"
   ]
  },
  {
   "cell_type": "code",
   "execution_count": 6,
   "metadata": {},
   "outputs": [],
   "source": [
    "all_image_dict.update(val_image_dict)"
   ]
  },
  {
   "cell_type": "code",
   "execution_count": 7,
   "metadata": {},
   "outputs": [],
   "source": [
    "train_images = 'train2014/train2014'\n",
    "val_images = 'val2014/val2014'"
   ]
  },
  {
   "cell_type": "code",
   "execution_count": 8,
   "metadata": {},
   "outputs": [],
   "source": [
    "training_questions = 'v2_Questions_Train_mscoco/v2_OpenEnded_mscoco_train2014_questions.json'\n",
    "validation_questions = 'v2_Questions_Val_mscoco/v2_OpenEnded_mscoco_val2014_questions.json'"
   ]
  },
  {
   "cell_type": "code",
   "execution_count": 9,
   "metadata": {},
   "outputs": [],
   "source": [
    "with open(training_questions, 'r') as f:\n",
    "    train_questions = json.load(f)\n",
    "\n",
    "\n",
    "\n",
    "with open(validation_questions, 'r') as f:\n",
    "    val_questions = json.load(f)\n"
   ]
  },
  {
   "cell_type": "code",
   "execution_count": 10,
   "metadata": {},
   "outputs": [],
   "source": [
    "training_annotations = 'v2_Annotations_Train_mscoco/v2_mscoco_train2014_annotations.json'\n",
    "validation_annotations = 'v2_Annotations_Val_mscoco/v2_mscoco_val2014_annotations.json'"
   ]
  },
  {
   "cell_type": "code",
   "execution_count": 11,
   "metadata": {},
   "outputs": [],
   "source": [
    "with open(training_annotations, 'r') as f:\n",
    "    train_annotations = json.load(f)\n",
    "    \n",
    "    \n",
    "with open(validation_annotations, 'r') as f:\n",
    "    val_annotations = json.load(f)"
   ]
  },
  {
   "cell_type": "code",
   "execution_count": 12,
   "metadata": {},
   "outputs": [],
   "source": [
    "train_questions_df = pd.DataFrame(train_questions['questions'])\n",
    "val_questions_df = pd.DataFrame(val_questions['questions'])"
   ]
  },
  {
   "cell_type": "code",
   "execution_count": 13,
   "metadata": {},
   "outputs": [],
   "source": [
    "train_annotations_df = pd.DataFrame(train_annotations['annotations'])\n",
    "val_annotations_df = pd.DataFrame(val_annotations['annotations'])"
   ]
  },
  {
   "cell_type": "code",
   "execution_count": 14,
   "metadata": {},
   "outputs": [],
   "source": [
    "train_data = pd.merge(train_questions_df,train_annotations_df,  how='inner', left_on=['image_id','question_id'], right_on = ['image_id','question_id'])\n",
    "val_data = pd.merge(val_questions_df,val_annotations_df,  how='inner', left_on=['image_id','question_id'], right_on = ['image_id','question_id'])"
   ]
  },
  {
   "cell_type": "code",
   "execution_count": 15,
   "metadata": {},
   "outputs": [],
   "source": [
    "def persons_answers(answers):\n",
    "    answers_dict = {}\n",
    "    score_dict = { 'yes' : 3, 'maybe' : 2, 'no' : 1 }\n",
    "    for _answer in answers:\n",
    "        score = score_dict[_answer['answer_confidence']]\n",
    "        if answers_dict.get(_answer['answer'],-1) != -1 :\n",
    "            answers_dict[_answer['answer']] += score\n",
    "        else:\n",
    "            answers_dict[_answer['answer']] = score\n",
    "\n",
    "    return sorted(list(answers_dict.items()),key = lambda x: x[1],reverse=True)[0][0]"
   ]
  },
  {
   "cell_type": "code",
   "execution_count": 16,
   "metadata": {},
   "outputs": [],
   "source": [
    "train_data['derived_answer'] =  train_data[\"answers\"].apply(lambda x: persons_answers(x))\n",
    "val_data['derived_answer'] =  val_data[\"answers\"].apply(lambda x: persons_answers(x))"
   ]
  },
  {
   "cell_type": "code",
   "execution_count": 17,
   "metadata": {},
   "outputs": [],
   "source": [
    "X_train = train_data\n",
    "X_val = val_data"
   ]
  },
  {
   "cell_type": "code",
   "execution_count": 18,
   "metadata": {},
   "outputs": [],
   "source": [
    "img_width = 448 \n",
    "img_height = 448\n",
    "\n",
    "BATCH_SIZE = 64\n",
    "BUFFER_SIZE = 300"
   ]
  },
  {
   "cell_type": "code",
   "execution_count": 19,
   "metadata": {},
   "outputs": [],
   "source": [
    "X_train.dropna(inplace=True)\n",
    "X_val.dropna(inplace=True)"
   ]
  },
  {
   "cell_type": "code",
   "execution_count": 20,
   "metadata": {},
   "outputs": [],
   "source": [
    "contractions = { \n",
    "\"ain't\": \"am not\",\"aren't\": \"are not\",\"can't\": \"cannot\",\"can't've\": \"cannot have\",\"'cause\": \"because\",\"could've\": \"could have\",\"couldn't\": \"could not\",\n",
    "\"couldn't've\": \"could not have\",\"didn't\": \"did not\",\"doesn't\": \"does not\",\"don't\": \"do not\",\"hadn't\": \"had not\",\"hadn't've\": \"had not have\",\n",
    "\"hasn't\": \"has not\",\"haven't\": \"have not\",\"he'd\": \"he would\",\"he'd've\": \"he would have\",\"he'll\": \"he will\",\"he's\": \"he is\",\"how'd\": \"how did\",\n",
    "\"how'll\": \"how will\",\"how's\": \"how is\",\"i'd\": \"i would\",\"i'll\": \"i will\",\"i'm\": \"i am\",\"i've\": \"i have\",\"isn't\": \"is not\",\"it'd\": \"it would\",\n",
    "\"it'll\": \"it will\",\"it's\": \"it is\",\"let's\": \"let us\",\"ma'am\": \"madam\",\"mayn't\": \"may not\",\"might've\": \"might have\",\"mightn't\": \"might not\",\n",
    "\"must've\": \"must have\",\"mustn't\": \"must not\",\"needn't\": \"need not\",\"oughtn't\": \"ought not\",\"shan't\": \"shall not\",\"sha'n't\": \"shall not\",\"she'd\": \"she would\",\n",
    "\"she'll\": \"she will\",\"she's\": \"she is\",\"should've\": \"should have\",\"shouldn't\": \"should not\",\"that'd\": \"that would\",\"that's\": \"that is\",\"there'd\": \"there had\",\n",
    "\"there's\": \"there is\",\"they'd\": \"they would\",\"they'll\": \"they will\",\"they're\": \"they are\",\"they've\": \"they have\",\"wasn't\": \"was not\",\"we'd\": \"we would\",\n",
    "\"we'll\": \"we will\",\"we're\": \"we are\",\"we've\": \"we have\",\"weren't\": \"were not\",\"what'll\": \"what will\",\"what're\": \"what are\",\"what's\": \"what is\",\n",
    "\"what've\": \"what have\",\"where'd\": \"where did\",\"where's\": \"where is\",\"who'll\": \"who will\",\"who's\": \"who is\",\"won't\": \"will not\",\"wouldn't\": \"would not\",\n",
    "\"you'd\": \"you would\",\"you'll\": \"you will\",\"you're\": \"you are\"\n",
    "}\n",
    "\n",
    "def preprocess_text(text):\n",
    "    '''Given a text this function removes the punctuations and returns the remaining text string'''\n",
    "    new_text = \"\"\n",
    "    text = text.lower()\n",
    "    i = 0\n",
    "    for word in text.split():\n",
    "        if i==0:\n",
    "            new_text = contractions.get(word,word)\n",
    "        else:\n",
    "            new_text = new_text + \" \" + contractions.get(word,word)\n",
    "        i += 1\n",
    "    return new_text.replace(\"'s\", '')"
   ]
  },
  {
   "cell_type": "code",
   "execution_count": 21,
   "metadata": {},
   "outputs": [],
   "source": [
    "X_train['multiple_choice_answer'] = X_train['multiple_choice_answer'].apply(lambda x: preprocess_text(x))\n",
    "X_val['multiple_choice_answer'] = X_val['multiple_choice_answer'].apply(lambda x: preprocess_text(x))"
   ]
  },
  {
   "cell_type": "code",
   "execution_count": 22,
   "metadata": {},
   "outputs": [
    {
     "data": {
      "text/plain": [
       "(443757, 214354)"
      ]
     },
     "execution_count": 22,
     "metadata": {},
     "output_type": "execute_result"
    }
   ],
   "source": [
    "len(X_train), len(X_val)"
   ]
  },
  {
   "cell_type": "code",
   "execution_count": 23,
   "metadata": {},
   "outputs": [],
   "source": [
    "all_classes = X_train['multiple_choice_answer'].values\n",
    "class_frequency = {}\n",
    "\n",
    "for _cls in all_classes:\n",
    "    if(class_frequency.get(_cls,-1)>0):\n",
    "        class_frequency[_cls] += 1\n",
    "    else:\n",
    "        class_frequency[_cls] = 1"
   ]
  },
  {
   "cell_type": "code",
   "execution_count": 24,
   "metadata": {},
   "outputs": [
    {
     "data": {
      "image/png": "[encoded data removed]",
      "text/plain": [
       "<Figure size 432x288 with 1 Axes>"
      ]
     },
     "metadata": {
      "needs_background": "light"
     },
     "output_type": "display_data"
    }
   ],
   "source": [
    "sort_class_frequency = sorted(list(class_frequency.items()), key = lambda x: x[1],reverse=True)   \n",
    "\n",
    "plt.plot([x[1] for x in sort_class_frequency[:30]])\n",
    "i=np.arange(30)\n",
    "plt.title(\"Frequency of top 30 Classes\")\n",
    "plt.xlabel(\"Tags\")\n",
    "plt.ylabel(\"Counts\")\n",
    "plt.xticks(i,[x[0] for x in sort_class_frequency[:30]])\n",
    "plt.xticks(rotation=90)\n",
    "plt.show()"
   ]
  },
  {
   "cell_type": "code",
   "execution_count": 25,
   "metadata": {},
   "outputs": [],
   "source": [
    "common_tags = heapq.nlargest(1000, class_frequency, key = class_frequency.get)"
   ]
  },
  {
   "cell_type": "code",
   "execution_count": 26,
   "metadata": {},
   "outputs": [],
   "source": [
    "# take the top 1000 classes\n",
    "X_train['multiple_choice_answer'] =  X_train['multiple_choice_answer'].apply(lambda x: x if x in common_tags else '')\n",
    "\n",
    "# removing question which has empty tags\n",
    "X_train = X_train[X_train['multiple_choice_answer'].apply(lambda x: len(x)>0)]"
   ]
  },
  {
   "cell_type": "code",
   "execution_count": 27,
   "metadata": {},
   "outputs": [
    {
     "name": "stdout",
     "output_type": "stream",
     "text": [
      "Number of clasess:  13969\n",
      "Shape of Answer Vectors in Train Data:  (388252, 1000)\n",
      "Shape of Answer Vectors in Validation Data:  (214354, 13969)\n"
     ]
    }
   ],
   "source": [
    "label_encoder = LabelBinarizer()\n",
    "answer_vector_train = label_encoder.fit_transform(X_train['multiple_choice_answer'].apply(lambda x: x).values)\n",
    "answer_vector_val = label_encoder.fit_transform(X_val['multiple_choice_answer'].apply(lambda x: x).values)\n",
    "\n",
    "ans_vocab = {l: i for i, l in enumerate(label_encoder.classes_)}\n",
    "\n",
    "print(\"Number of clasess: \", len(ans_vocab))\n",
    "print(\"Shape of Answer Vectors in Train Data: \", answer_vector_train.shape)\n",
    "print(\"Shape of Answer Vectors in Validation Data: \", answer_vector_val.shape)"
   ]
  },
  {
   "cell_type": "code",
   "execution_count": null,
   "metadata": {},
   "outputs": [],
   "source": []
  },
  {
   "cell_type": "code",
   "execution_count": 28,
   "metadata": {},
   "outputs": [],
   "source": [
    "def preprocess_question(text):\n",
    "    '''Given a text this function removes the punctuations and returns the remaining text string'''\n",
    "    new_text = \"<start>\"\n",
    "    text = text.lower()\n",
    "    for word in text.split():\n",
    "        new_text = new_text + \" \" + contractions.get(word, word)\n",
    "    new_text = new_text + \" <end>\"\n",
    "    return new_text.replace(\"'s\", '')"
   ]
  },
  {
   "cell_type": "code",
   "execution_count": 29,
   "metadata": {},
   "outputs": [
    {
     "name": "stderr",
     "output_type": "stream",
     "text": [
      "<ipython-input-29-c9f73ee18296>:1: SettingWithCopyWarning: \n",
      "A value is trying to be set on a copy of a slice from a DataFrame.\n",
      "Try using .loc[row_indexer,col_indexer] = value instead\n",
      "\n",
      "See the caveats in the documentation: https://pandas.pydata.org/pandas-docs/stable/user_guide/indexing.html#returning-a-view-versus-a-copy\n",
      "  X_train['question'] = X_train['question'].apply(lambda x: preprocess_question(x))\n"
     ]
    }
   ],
   "source": [
    "X_train['question'] = X_train['question'].apply(lambda x: preprocess_question(x))\n",
    "X_val['question'] = X_val['question'].apply(lambda x: preprocess_question(x))"
   ]
  },
  {
   "cell_type": "code",
   "execution_count": 30,
   "metadata": {},
   "outputs": [
    {
     "name": "stdout",
     "output_type": "stream",
     "text": [
      "Number of words in tokenizer: 12450\n",
      "Shape of Question Vectors in Train Data:  (388252, 24)\n",
      "Shape of Question Vectors in Validation Data:  (214354, 24)\n"
     ]
    }
   ],
   "source": [
    "#tokenization\n",
    "tokenizer = tf.keras.preprocessing.text.Tokenizer(oov_token = \"<unk>\", filters = '!\"#$%&()*+.,-/:;=?@[\\]^_`{|}~ ')\n",
    "tokenizer.fit_on_texts(X_train['question'].values)\n",
    "train_question_seqs = tokenizer.texts_to_sequences(X_train['question'].values)\n",
    "val_question_seqs = tokenizer.texts_to_sequences(X_val['question'].values)\n",
    "\n",
    "print(\"Number of words in tokenizer:\", len(tokenizer.word_index))\n",
    "ques_vocab = tokenizer.word_index\n",
    "\n",
    "#Padding\n",
    "#tokenizer.word_index['<pad>'] = 0\n",
    "#tokenizer.index_word[0] = '<pad>'\n",
    "question_vector_train = tf.keras.preprocessing.sequence.pad_sequences(train_question_seqs, padding='post')\n",
    "question_vector_val = tf.keras.preprocessing.sequence.pad_sequences(val_question_seqs,padding='post',maxlen=question_vector_train.shape[1])\n",
    "\n",
    "print(\"Shape of Question Vectors in Train Data: \", question_vector_train.shape)\n",
    "print(\"Shape of Question Vectors in Validation Data: \", question_vector_val.shape)"
   ]
  },
  {
   "cell_type": "code",
   "execution_count": 31,
   "metadata": {},
   "outputs": [],
   "source": [
    "image_paths_train = X_train['image_id'].apply(lambda x:  train_images + '/COCO_train2014_' + '%012d.jpg' % (x)).values\n",
    "image_paths_val = X_val['image_id'].apply(lambda x:  val_images + '/COCO_val2014_' + '%012d.jpg' % (x)).values\n"
   ]
  },
  {
   "cell_type": "code",
   "execution_count": 32,
   "metadata": {},
   "outputs": [],
   "source": [
    "def get_imageTensor(img, ques):\n",
    "    #path = img.decode('utf-8').replace(imageDirectory,imageNumpyDirectory).replace('.jpg',\"\") +'.npy'\n",
    "    #img_tensor = np.load(path)\n",
    "    img_tensor = all_image_dict[img.decode('utf-8')]\n",
    "    img_tensor = tf.squeeze(img_tensor)\n",
    "#     print('img : ' + str(img_tensor.shape))\n",
    "    return img_tensor, ques\n",
    "\n",
    "def createDataset(image_paths, question_vector, answer_vector):\n",
    "    dataset_input = tf.data.Dataset.from_tensor_slices((image_paths, question_vector.astype(np.float32)))\n",
    "    dataset_output = tf.data.Dataset.from_tensor_slices((answer_vector.astype(np.float32)))\n",
    "    \n",
    "    # using map to load the numpy files in parallel\n",
    "    dataset_input = dataset_input.map(lambda img, ques : tf.numpy_function(get_imageTensor, [img, ques], [tf.float32, tf.float32]),\n",
    "                                      num_parallel_calls=tf.data.experimental.AUTOTUNE)\n",
    "\n",
    "    # shuffling and batching\n",
    "    #dataset_input = dataset_input.shuffle(BUFFER_SIZE).batch(BATCH_SIZE)\n",
    "    dataset_input = dataset_input.batch(BATCH_SIZE)\n",
    "    dataset_output = dataset_output.batch(BATCH_SIZE)#.repeat()\n",
    "    \n",
    "    dataset = tf.data.Dataset.zip((dataset_input, dataset_output))\n",
    "    dataset = dataset.prefetch(buffer_size = tf.data.experimental.AUTOTUNE)\n",
    "\n",
    "    return dataset"
   ]
  },
  {
   "cell_type": "code",
   "execution_count": 33,
   "metadata": {},
   "outputs": [
    {
     "data": {
      "text/plain": [
       "((388252, 24), (388252,), (388252, 1000))"
      ]
     },
     "execution_count": 33,
     "metadata": {},
     "output_type": "execute_result"
    }
   ],
   "source": [
    "question_vector_train.shape, image_paths_train.shape, answer_vector_train.shape"
   ]
  },
  {
   "cell_type": "code",
   "execution_count": 34,
   "metadata": {},
   "outputs": [
    {
     "data": {
      "text/plain": [
       "((214354, 24), (214354,), (214354, 13969))"
      ]
     },
     "execution_count": 34,
     "metadata": {},
     "output_type": "execute_result"
    }
   ],
   "source": [
    "question_vector_val.shape, image_paths_val.shape, answer_vector_val.shape"
   ]
  },
  {
   "cell_type": "code",
   "execution_count": 35,
   "metadata": {},
   "outputs": [],
   "source": [
    "dataset_train = createDataset(image_paths_train, question_vector_train, answer_vector_train)\n",
    "dataset_val = createDataset(image_paths_val, question_vector_val, answer_vector_val)"
   ]
  },
  {
   "cell_type": "code",
   "execution_count": 36,
   "metadata": {},
   "outputs": [
    {
     "data": {
      "text/plain": [
       "<PrefetchDataset shapes: ((<unknown>, <unknown>), (None, 1000)), types: ((tf.float32, tf.float32), tf.float32)>"
      ]
     },
     "execution_count": 36,
     "metadata": {},
     "output_type": "execute_result"
    }
   ],
   "source": [
    "dataset_train"
   ]
  },
  {
   "cell_type": "code",
   "execution_count": null,
   "metadata": {},
   "outputs": [],
   "source": []
  },
  {
   "cell_type": "code",
   "execution_count": 37,
   "metadata": {},
   "outputs": [
    {
     "data": {
      "text/plain": [
       "(1, 14, 14, 512)"
      ]
     },
     "execution_count": 37,
     "metadata": {},
     "output_type": "execute_result"
    }
   ],
   "source": [
    "list(all_image_dict.values())[0].shape"
   ]
  },
  {
   "cell_type": "code",
   "execution_count": 38,
   "metadata": {},
   "outputs": [],
   "source": [
    "class CoattentionModel(tf.keras.layers.Layer):\n",
    "    def __init__(self):#, num_embeddings, num_classes, embed_dim=512, k=30\n",
    "        super().__init__()\n",
    "        self.num_classes = len(ans_vocab)\n",
    "        self.hidden_size = 512\n",
    "        self.dropout = 0.3\n",
    "        self.num_embeddings = len(ques_vocab)+1\n",
    "\n",
    "        self.image_dense = tf.keras.layers.Dense(self.hidden_size, kernel_initializer = tf.keras.initializers.glorot_normal(seed=15)) \n",
    "        self.image_corr = tf.keras.layers.Dense(self.hidden_size, kernel_initializer = tf.keras.initializers.glorot_normal(seed=29))\n",
    "\n",
    "        self.image_atten_dense = tf.keras.layers.Dense(self.hidden_size, kernel_initializer = tf.keras.initializers.glorot_uniform(seed=17)) \n",
    "        self.question_atten_dens = tf.keras.layers.Dense(self.hidden_size, kernel_initializer = tf.keras.initializers.glorot_uniform(seed=28))\n",
    "        self.question_atten_dropout = tf.keras.layers.Dropout(self.dropout)\n",
    "        self.image_atten_dropout = tf.keras.layers.Dropout(self.dropout)\n",
    "\n",
    "        self.ques_atten = tf.keras.layers.Dense(1, kernel_initializer = tf.keras.initializers.glorot_uniform(seed=21))\n",
    "\n",
    "        self.img_atten = tf.keras.layers.Dense(1, kernel_initializer = tf.keras.initializers.glorot_uniform(seed=33))\n",
    "\n",
    "        self.embed = tf.keras.layers.Embedding(self.num_embeddings, self.hidden_size,\n",
    "                                               embeddings_initializer = tf.keras.initializers.RandomNormal(mean=0, stddev=1, seed=23))\n",
    "        \n",
    "        self.unigram_conv = tf.keras.layers.Conv1D(filters = self.hidden_size, kernel_size = 1, strides = 1, padding = 'same', kernel_initializer = tf.keras.initializers.glorot_normal(seed=41))\n",
    "        self.bigram_conv  = tf.keras.layers.Conv1D(filters = self.hidden_size, kernel_size = 2, strides = 1, padding = 'same', kernel_initializer = tf.keras.initializers.glorot_normal(seed=58), dilation_rate = 2)\n",
    "        self.trigram_conv = tf.keras.layers.Conv1D(filters = self.hidden_size, kernel_size = 3, strides = 1, padding = 'same', kernel_initializer = tf.keras.initializers.glorot_normal(seed=89), dilation_rate = 2)\n",
    "        self.max_pool = tf.keras.layers.MaxPool2D((3,1))\n",
    "        self.phrase_dropout = tf.keras.layers.Dropout(self.dropout)\n",
    "        \n",
    "        self.lstm = tf.keras.layers.LSTM(units = 512 , return_sequences=True, dropout = self.dropout,\n",
    "                                         kernel_initializer = tf.keras.initializers.glorot_uniform(seed=26),\n",
    "                                         recurrent_initializer = tf.keras.initializers.orthogonal(seed=54))\n",
    "        \n",
    "        self.tanh = tf.keras.layers.Activation('tanh')\n",
    "        self.softmax = tf.keras.layers.Activation('softmax')\n",
    "        \n",
    "        self.W_w_dropout = tf.keras.layers.Dropout(self.dropout)\n",
    "        self.W_p_dropout = tf.keras.layers.Dropout(self.dropout)\n",
    "        self.W_s_dropout = tf.keras.layers.Dropout(self.dropout)\n",
    "\n",
    "        self.W_w = tf.keras.layers.Dense(units = self.hidden_size, kernel_initializer = tf.keras.initializers.glorot_uniform(seed=32), input_shape = (self.hidden_size,))\n",
    "        self.W_p = tf.keras.layers.Dense(units = self.hidden_size, kernel_initializer = tf.keras.initializers.glorot_uniform(seed=49), input_shape = (2 * self.hidden_size, ))\n",
    "        self.W_s = tf.keras.layers.Dense(units = self.hidden_size, kernel_initializer = tf.keras.initializers.glorot_uniform(seed=31), input_shape = (2 * self.hidden_size, ))\n",
    "        \n",
    "        self.fc1_Dense = tf.keras.layers.Dense(units = 2 * self.hidden_size, activation='relu',\n",
    "                                               kernel_initializer = tf.keras.initializers.he_normal(seed=84))\n",
    "        self.fc1_dropout = tf.keras.layers.Dropout(self.dropout)\n",
    "\n",
    "        self.fc = tf.keras.layers.Dense(units = self.num_classes, activation='softmax',kernel_initializer = tf.keras.initializers.glorot_uniform(seed=91), input_shape = (self.hidden_size,))\n",
    "        \n",
    "        return\n",
    "\n",
    "    def call(self, image, question):#Image: B x 196 x 512\n",
    "        \n",
    "        image = self.image_dense(image)\n",
    "        image = self.tanh(image)\n",
    "\n",
    "        words = self.embed(question)    # Words: B x L x 51\n",
    "\n",
    "        unigrams =  tf.expand_dims(self.tanh(self.unigram_conv(words)), 1) # B x L x 512\n",
    "        bigrams  =  tf.expand_dims(self.tanh(self.bigram_conv(words)), 1)  # B x L x 512\n",
    "        trigrams =  tf.expand_dims(self.tanh(self.trigram_conv(words)), 1) # B x L x 512\n",
    "\n",
    "        phrase = tf.squeeze(self.max_pool(tf.concat((unigrams, bigrams, trigrams), 1)), axis=1)  # B x L x 512\n",
    "        phrase = self.tanh(phrase)\n",
    "        phrase = self.phrase_dropout(phrase)\n",
    "  \n",
    "        hidden = None\n",
    "        sentence = self.lstm(phrase)        # B x L x 512   \n",
    "\n",
    "        print(words.shape, phrase.shape, sentence.shape)\n",
    "        v_word, q_word = self.co_attention(image, words)\n",
    "        v_phrase, q_phrase = self.co_attention(image, phrase)\n",
    "        v_sent, q_sent = self.co_attention(image, sentence)\n",
    "\n",
    "        h_w = self.tanh(self.W_w(self.W_w_dropout(q_word + v_word)))\n",
    "        h_p = self.tanh(self.W_p(self.W_p_dropout(tf.concat(((q_phrase + v_phrase), h_w), axis=1))))\n",
    "        h_s = self.tanh(self.W_s(self.W_s_dropout(tf.concat(((q_sent + v_sent), h_p), axis=1))))\n",
    "\n",
    "        fc1 = self.fc1_Dense(self.fc1_dropout(h_s))\n",
    "        logits = self.fc(fc1)\n",
    "\n",
    "        return logits\n",
    "\n",
    "    def co_attention(self, img_feat, ques_feat):  # V : B x 512 x 196, Q : B x L x 512\n",
    "        img_corr = self.image_corr(img_feat)\n",
    "\n",
    "        weight_matrix = tf.keras.backend.batch_dot(ques_feat, img_corr, axes = (2, 2))\n",
    "        weight_matrix = self.tanh(weight_matrix)\n",
    "\n",
    "        ques_embed = self.image_atten_dense(ques_feat)\n",
    "        img_embed = self.question_atten_dens(img_feat)\n",
    "\n",
    "        transform_img = tf.keras.backend.batch_dot(weight_matrix, img_embed)\n",
    "\n",
    "        ques_atten_sum = self.tanh(transform_img + ques_embed)\n",
    "        ques_atten_sum = self.question_atten_dropout(ques_atten_sum)\n",
    "        ques_atten = self.ques_atten(ques_atten_sum)\n",
    "        ques_atten =  tf.keras.layers.Reshape((ques_atten.shape[1],))(ques_atten)\n",
    "        ques_atten =  self.softmax(ques_atten)\n",
    "\n",
    "        transform_ques = tf.keras.backend.batch_dot(weight_matrix, ques_embed, axes = (1, 1))\n",
    "        img_atten_sum = self.tanh(transform_ques+img_embed)\n",
    "        img_atten_sum = self.image_atten_dropout(img_atten_sum)\n",
    "        img_atten = self.img_atten(img_atten_sum)\n",
    "        img_atten = tf.keras.layers.Reshape((img_atten.shape[1],))(img_atten)\n",
    "        img_atten = self.softmax(img_atten)\n",
    "\n",
    "        ques_atten = tf.keras.layers.Reshape(( 1, ques_atten.shape[1]))(ques_atten)\n",
    "        img_atten = tf.keras.layers.Reshape(( 1, img_atten.shape[1]))(img_atten)\n",
    "\n",
    "        ques_atten_feat = tf.keras.backend.batch_dot(ques_atten,ques_feat)\n",
    "        print(ques_atten_feat)\n",
    "        ques_atten_feat = tf.keras.layers.Reshape(( ques_atten_feat.shape[-1],))(ques_atten_feat)\n",
    "\n",
    "        img_atten_feat =  tf.keras.backend.batch_dot(img_atten, img_feat)\n",
    "        print(img_atten_feat)\n",
    "        img_atten_feat = tf.keras.layers.Reshape((img_atten_feat.shape[-1],))(img_atten_feat)\n",
    "\n",
    "        return img_atten_feat, ques_atten_feat"
   ]
  },
  {
   "cell_type": "code",
   "execution_count": 39,
   "metadata": {},
   "outputs": [],
   "source": [
    "def scheduler(epoch):\n",
    "    if epoch < 10:\n",
    "        return 0.0001\n",
    "    else:\n",
    "        return 0.0001 * tf.math.exp(0.1 * (10 - epoch))"
   ]
  },
  {
   "cell_type": "code",
   "execution_count": 40,
   "metadata": {},
   "outputs": [],
   "source": [
    "def callBacksList():\n",
    "    \"\"\"\n",
    "    returns list of callback's\n",
    "    \"\"\"\n",
    "    filepath = \"Models\" + ModelName + \"/optimum.hdf5\"\n",
    "    checkpoint = tf.keras.callbacks.ModelCheckpoint(filepath = filepath, monitor = 'val_accuracy', verbose = 1, save_best_only = True, mode = 'auto')\n",
    "    reduce_lr = tf.keras.callbacks.ReduceLROnPlateau(monitor = 'val_accuracy', patience = 2)\n",
    "    early_stop = tf.keras.callbacks.EarlyStopping(monitor = 'val_accuracy', patience = 4, verbose = 1)\n",
    "    scheduler_lr = tf.keras.callbacks.LearningRateScheduler(scheduler, verbose=0 )\n",
    "\n",
    "    #directory for tensorboard to save evnts\n",
    "    log_dir= \"Models\" + \"logs/fit/\" + ModelName + \"/\" + datetime.datetime.now().strftime(\"%Y%m%d-%H%M%S\")\n",
    "    os.makedirs(log_dir)\n",
    "\n",
    "    #print(\"TensorBoard Folder for this Execution\",log_dir)#creating TensorBoard call back,this will write all events to given folder\n",
    "    tensorboard_callback = tf.keras.callbacks.TensorBoard(log_dir = log_dir, histogram_freq = 0)\n",
    "\n",
    "    history = tf.keras.callbacks.History()\n",
    "    callbacks_list = [scheduler_lr, early_stop, history, tensorboard_callback, checkpoint]\n",
    "    return callbacks_list"
   ]
  },
  {
   "cell_type": "code",
   "execution_count": 41,
   "metadata": {},
   "outputs": [],
   "source": [
    "def Build_CoattentionModel():\n",
    "    image_input1 = tf.keras.layers.Input(shape = (14,14, 512))\n",
    "    image_input = tf.keras.layers.Reshape((-1, 512))(image_input1)\n",
    "\n",
    "    question_input = tf.keras.layers.Input(shape=(question_vector_train.shape[1],))\n",
    "\n",
    "    output = CoattentionModel()(image_input, question_input)#num_embeddings = len(ques_vocab), num_classes = len(ans_vocab), embed_dim = 512\n",
    "\n",
    "    model = tf.keras.models.Model(inputs = [image_input1, question_input], outputs = output)\n",
    "\n",
    "    model.compile(optimizer = tf.keras.optimizers.Adam(learning_rate=0.001), loss = 'categorical_crossentropy', metrics = ['accuracy'])\n",
    "    return model"
   ]
  },
  {
   "cell_type": "code",
   "execution_count": 42,
   "metadata": {},
   "outputs": [
    {
     "name": "stdout",
     "output_type": "stream",
     "text": [
      "(None, 24, 512) (None, 24, 512) (None, 24, 512)\n",
      "Tensor(\"coattention_model/MatMul_3:0\", shape=(None, 1, 512), dtype=float32)\n",
      "Tensor(\"coattention_model/MatMul_4:0\", shape=(None, 1, 512), dtype=float32)\n",
      "Tensor(\"coattention_model/MatMul_8:0\", shape=(None, 1, 512), dtype=float32)\n",
      "Tensor(\"coattention_model/MatMul_9:0\", shape=(None, 1, 512), dtype=float32)\n",
      "Tensor(\"coattention_model/MatMul_13:0\", shape=(None, 1, 512), dtype=float32)\n",
      "Tensor(\"coattention_model/MatMul_14:0\", shape=(None, 1, 512), dtype=float32)\n",
      "Epoch 1/20\n",
      "(None, 24, 512) (None, 24, 512) (None, 24, 512)\n",
      "Tensor(\"model/coattention_model/MatMul_3:0\", shape=(None, 1, 512), dtype=float32)\n",
      "Tensor(\"model/coattention_model/MatMul_4:0\", shape=(None, 1, 512), dtype=float32)\n",
      "Tensor(\"model/coattention_model/MatMul_8:0\", shape=(None, 1, 512), dtype=float32)\n",
      "Tensor(\"model/coattention_model/MatMul_9:0\", shape=(None, 1, 512), dtype=float32)\n",
      "Tensor(\"model/coattention_model/MatMul_13:0\", shape=(None, 1, 512), dtype=float32)\n",
      "Tensor(\"model/coattention_model/MatMul_14:0\", shape=(None, 1, 512), dtype=float32)\n"
     ]
    },
    {
     "ename": "ValueError",
     "evalue": "in user code:\n\n    File \"C:\\Users\\dhirajsrivastava\\AppData\\Roaming\\Python\\Python38\\site-packages\\keras\\engine\\training.py\", line 878, in train_function  *\n        return step_function(self, iterator)\n    File \"C:\\Users\\dhirajsrivastava\\AppData\\Roaming\\Python\\Python38\\site-packages\\keras\\engine\\training.py\", line 867, in step_function  **\n        outputs = model.distribute_strategy.run(run_step, args=(data,))\n    File \"C:\\Users\\dhirajsrivastava\\AppData\\Roaming\\Python\\Python38\\site-packages\\keras\\engine\\training.py\", line 860, in run_step  **\n        outputs = model.train_step(data)\n    File \"C:\\Users\\dhirajsrivastava\\AppData\\Roaming\\Python\\Python38\\site-packages\\keras\\engine\\training.py\", line 809, in train_step\n        loss = self.compiled_loss(\n    File \"C:\\Users\\dhirajsrivastava\\AppData\\Roaming\\Python\\Python38\\site-packages\\keras\\engine\\compile_utils.py\", line 201, in __call__\n        loss_value = loss_obj(y_t, y_p, sample_weight=sw)\n    File \"C:\\Users\\dhirajsrivastava\\AppData\\Roaming\\Python\\Python38\\site-packages\\keras\\losses.py\", line 141, in __call__\n        losses = call_fn(y_true, y_pred)\n    File \"C:\\Users\\dhirajsrivastava\\AppData\\Roaming\\Python\\Python38\\site-packages\\keras\\losses.py\", line 245, in call  **\n        return ag_fn(y_true, y_pred, **self._fn_kwargs)\n    File \"C:\\Users\\dhirajsrivastava\\AppData\\Roaming\\Python\\Python38\\site-packages\\keras\\losses.py\", line 1664, in categorical_crossentropy\n        return backend.categorical_crossentropy(\n    File \"C:\\Users\\dhirajsrivastava\\AppData\\Roaming\\Python\\Python38\\site-packages\\keras\\backend.py\", line 4994, in categorical_crossentropy\n        target.shape.assert_is_compatible_with(output.shape)\n\n    ValueError: Shapes (None, 1000) and (None, 13969) are incompatible\n",
     "output_type": "error",
     "traceback": [
      "\u001b[1;31m---------------------------------------------------------------------------\u001b[0m",
      "\u001b[1;31mValueError\u001b[0m                                Traceback (most recent call last)",
      "\u001b[1;32m<ipython-input-42-537999a2b738>\u001b[0m in \u001b[0;36m<module>\u001b[1;34m\u001b[0m\n\u001b[0;32m      2\u001b[0m \u001b[0ml2_alpha\u001b[0m \u001b[1;33m=\u001b[0m \u001b[1;36m0.001\u001b[0m\u001b[1;33m\u001b[0m\u001b[1;33m\u001b[0m\u001b[0m\n\u001b[0;32m      3\u001b[0m \u001b[0mModelName\u001b[0m \u001b[1;33m=\u001b[0m \u001b[1;34m'Coattention'\u001b[0m\u001b[1;33m\u001b[0m\u001b[1;33m\u001b[0m\u001b[0m\n\u001b[1;32m----> 4\u001b[1;33m \u001b[0mhistory\u001b[0m \u001b[1;33m=\u001b[0m \u001b[0mmodel\u001b[0m\u001b[1;33m.\u001b[0m\u001b[0mfit\u001b[0m\u001b[1;33m(\u001b[0m\u001b[0mdataset_train\u001b[0m\u001b[1;33m,\u001b[0m \u001b[0mepochs\u001b[0m \u001b[1;33m=\u001b[0m \u001b[1;36m20\u001b[0m\u001b[1;33m,\u001b[0m \u001b[0msteps_per_epoch\u001b[0m\u001b[1;33m=\u001b[0m\u001b[1;36m100\u001b[0m\u001b[1;33m,\u001b[0m \u001b[0mvalidation_data\u001b[0m\u001b[1;33m=\u001b[0m\u001b[0mdataset_val\u001b[0m\u001b[1;33m,\u001b[0m\u001b[0mvalidation_steps\u001b[0m\u001b[1;33m=\u001b[0m\u001b[1;36m100\u001b[0m\u001b[1;33m)\u001b[0m\u001b[1;33m\u001b[0m\u001b[1;33m\u001b[0m\u001b[0m\n\u001b[0m",
      "\u001b[1;32m~\\AppData\\Roaming\\Python\\Python38\\site-packages\\keras\\utils\\traceback_utils.py\u001b[0m in \u001b[0;36merror_handler\u001b[1;34m(*args, **kwargs)\u001b[0m\n\u001b[0;32m     65\u001b[0m     \u001b[1;32mexcept\u001b[0m \u001b[0mException\u001b[0m \u001b[1;32mas\u001b[0m \u001b[0me\u001b[0m\u001b[1;33m:\u001b[0m  \u001b[1;31m# pylint: disable=broad-except\u001b[0m\u001b[1;33m\u001b[0m\u001b[1;33m\u001b[0m\u001b[0m\n\u001b[0;32m     66\u001b[0m       \u001b[0mfiltered_tb\u001b[0m \u001b[1;33m=\u001b[0m \u001b[0m_process_traceback_frames\u001b[0m\u001b[1;33m(\u001b[0m\u001b[0me\u001b[0m\u001b[1;33m.\u001b[0m\u001b[0m__traceback__\u001b[0m\u001b[1;33m)\u001b[0m\u001b[1;33m\u001b[0m\u001b[1;33m\u001b[0m\u001b[0m\n\u001b[1;32m---> 67\u001b[1;33m       \u001b[1;32mraise\u001b[0m \u001b[0me\u001b[0m\u001b[1;33m.\u001b[0m\u001b[0mwith_traceback\u001b[0m\u001b[1;33m(\u001b[0m\u001b[0mfiltered_tb\u001b[0m\u001b[1;33m)\u001b[0m \u001b[1;32mfrom\u001b[0m \u001b[1;32mNone\u001b[0m\u001b[1;33m\u001b[0m\u001b[1;33m\u001b[0m\u001b[0m\n\u001b[0m\u001b[0;32m     68\u001b[0m     \u001b[1;32mfinally\u001b[0m\u001b[1;33m:\u001b[0m\u001b[1;33m\u001b[0m\u001b[1;33m\u001b[0m\u001b[0m\n\u001b[0;32m     69\u001b[0m       \u001b[1;32mdel\u001b[0m \u001b[0mfiltered_tb\u001b[0m\u001b[1;33m\u001b[0m\u001b[1;33m\u001b[0m\u001b[0m\n",
      "\u001b[1;32m~\\AppData\\Roaming\\Python\\Python38\\site-packages\\tensorflow\\python\\framework\\func_graph.py\u001b[0m in \u001b[0;36mautograph_handler\u001b[1;34m(*args, **kwargs)\u001b[0m\n\u001b[0;32m   1127\u001b[0m           \u001b[1;32mexcept\u001b[0m \u001b[0mException\u001b[0m \u001b[1;32mas\u001b[0m \u001b[0me\u001b[0m\u001b[1;33m:\u001b[0m  \u001b[1;31m# pylint:disable=broad-except\u001b[0m\u001b[1;33m\u001b[0m\u001b[1;33m\u001b[0m\u001b[0m\n\u001b[0;32m   1128\u001b[0m             \u001b[1;32mif\u001b[0m \u001b[0mhasattr\u001b[0m\u001b[1;33m(\u001b[0m\u001b[0me\u001b[0m\u001b[1;33m,\u001b[0m \u001b[1;34m\"ag_error_metadata\"\u001b[0m\u001b[1;33m)\u001b[0m\u001b[1;33m:\u001b[0m\u001b[1;33m\u001b[0m\u001b[1;33m\u001b[0m\u001b[0m\n\u001b[1;32m-> 1129\u001b[1;33m               \u001b[1;32mraise\u001b[0m \u001b[0me\u001b[0m\u001b[1;33m.\u001b[0m\u001b[0mag_error_metadata\u001b[0m\u001b[1;33m.\u001b[0m\u001b[0mto_exception\u001b[0m\u001b[1;33m(\u001b[0m\u001b[0me\u001b[0m\u001b[1;33m)\u001b[0m\u001b[1;33m\u001b[0m\u001b[1;33m\u001b[0m\u001b[0m\n\u001b[0m\u001b[0;32m   1130\u001b[0m             \u001b[1;32melse\u001b[0m\u001b[1;33m:\u001b[0m\u001b[1;33m\u001b[0m\u001b[1;33m\u001b[0m\u001b[0m\n\u001b[0;32m   1131\u001b[0m               \u001b[1;32mraise\u001b[0m\u001b[1;33m\u001b[0m\u001b[1;33m\u001b[0m\u001b[0m\n",
      "\u001b[1;31mValueError\u001b[0m: in user code:\n\n    File \"C:\\Users\\dhirajsrivastava\\AppData\\Roaming\\Python\\Python38\\site-packages\\keras\\engine\\training.py\", line 878, in train_function  *\n        return step_function(self, iterator)\n    File \"C:\\Users\\dhirajsrivastava\\AppData\\Roaming\\Python\\Python38\\site-packages\\keras\\engine\\training.py\", line 867, in step_function  **\n        outputs = model.distribute_strategy.run(run_step, args=(data,))\n    File \"C:\\Users\\dhirajsrivastava\\AppData\\Roaming\\Python\\Python38\\site-packages\\keras\\engine\\training.py\", line 860, in run_step  **\n        outputs = model.train_step(data)\n    File \"C:\\Users\\dhirajsrivastava\\AppData\\Roaming\\Python\\Python38\\site-packages\\keras\\engine\\training.py\", line 809, in train_step\n        loss = self.compiled_loss(\n    File \"C:\\Users\\dhirajsrivastava\\AppData\\Roaming\\Python\\Python38\\site-packages\\keras\\engine\\compile_utils.py\", line 201, in __call__\n        loss_value = loss_obj(y_t, y_p, sample_weight=sw)\n    File \"C:\\Users\\dhirajsrivastava\\AppData\\Roaming\\Python\\Python38\\site-packages\\keras\\losses.py\", line 141, in __call__\n        losses = call_fn(y_true, y_pred)\n    File \"C:\\Users\\dhirajsrivastava\\AppData\\Roaming\\Python\\Python38\\site-packages\\keras\\losses.py\", line 245, in call  **\n        return ag_fn(y_true, y_pred, **self._fn_kwargs)\n    File \"C:\\Users\\dhirajsrivastava\\AppData\\Roaming\\Python\\Python38\\site-packages\\keras\\losses.py\", line 1664, in categorical_crossentropy\n        return backend.categorical_crossentropy(\n    File \"C:\\Users\\dhirajsrivastava\\AppData\\Roaming\\Python\\Python38\\site-packages\\keras\\backend.py\", line 4994, in categorical_crossentropy\n        target.shape.assert_is_compatible_with(output.shape)\n\n    ValueError: Shapes (None, 1000) and (None, 13969) are incompatible\n"
     ]
    }
   ],
   "source": [
    "model = Build_CoattentionModel()\n",
    "l2_alpha = 0.001\n",
    "ModelName = 'Coattention'\n",
    "history = model.fit(dataset_train, epochs = 20, steps_per_epoch=100, validation_data=dataset_val,validation_steps=100)"
   ]
  },
  {
   "cell_type": "code",
   "execution_count": null,
   "metadata": {},
   "outputs": [],
   "source": []
  },
  {
   "cell_type": "code",
   "execution_count": null,
   "metadata": {},
   "outputs": [],
   "source": []
  },
  {
   "cell_type": "code",
   "execution_count": null,
   "metadata": {},
   "outputs": [],
   "source": []
  },
  {
   "cell_type": "code",
   "execution_count": null,
   "metadata": {},
   "outputs": [],
   "source": []
  },
  {
   "cell_type": "code",
   "execution_count": null,
   "metadata": {},
   "outputs": [],
   "source": []
  },
  {
   "cell_type": "code",
   "execution_count": null,
   "metadata": {},
   "outputs": [],
   "source": []
  },
  {
   "cell_type": "code",
   "execution_count": 45,
   "metadata": {},
   "outputs": [
    {
     "name": "stdout",
     "output_type": "stream",
     "text": [
      "(None, 24, 512) (None, 24, 512) (None, 24, 512)\n",
      "Tensor(\"coattention_model/MatMul_3:0\", shape=(None, 1, 512), dtype=float32)\n",
      "Tensor(\"coattention_model/MatMul_4:0\", shape=(None, 1, 512), dtype=float32)\n",
      "Tensor(\"coattention_model/MatMul_8:0\", shape=(None, 1, 512), dtype=float32)\n",
      "Tensor(\"coattention_model/MatMul_9:0\", shape=(None, 1, 512), dtype=float32)\n",
      "Tensor(\"coattention_model/MatMul_13:0\", shape=(None, 1, 512), dtype=float32)\n",
      "Tensor(\"coattention_model/MatMul_14:0\", shape=(None, 1, 512), dtype=float32)\n",
      "Epoch 1/20\n",
      "(None, 24, 512) (None, 24, 512) (None, 24, 512)\n",
      "Tensor(\"model/coattention_model/MatMul_3:0\", shape=(None, 1, 512), dtype=float32)\n",
      "Tensor(\"model/coattention_model/MatMul_4:0\", shape=(None, 1, 512), dtype=float32)\n",
      "Tensor(\"model/coattention_model/MatMul_8:0\", shape=(None, 1, 512), dtype=float32)\n",
      "Tensor(\"model/coattention_model/MatMul_9:0\", shape=(None, 1, 512), dtype=float32)\n",
      "Tensor(\"model/coattention_model/MatMul_13:0\", shape=(None, 1, 512), dtype=float32)\n",
      "Tensor(\"model/coattention_model/MatMul_14:0\", shape=(None, 1, 512), dtype=float32)\n",
      "(None, 24, 512) (None, 24, 512) (None, 24, 512)\n",
      "Tensor(\"model/coattention_model/MatMul_3:0\", shape=(None, 1, 512), dtype=float32)\n",
      "Tensor(\"model/coattention_model/MatMul_4:0\", shape=(None, 1, 512), dtype=float32)\n",
      "Tensor(\"model/coattention_model/MatMul_8:0\", shape=(None, 1, 512), dtype=float32)\n",
      "Tensor(\"model/coattention_model/MatMul_9:0\", shape=(None, 1, 512), dtype=float32)\n",
      "Tensor(\"model/coattention_model/MatMul_13:0\", shape=(None, 1, 512), dtype=float32)\n",
      "Tensor(\"model/coattention_model/MatMul_14:0\", shape=(None, 1, 512), dtype=float32)\n",
      "100/100 [==============================] - ETA: 0s - loss: 4.5188 - accuracy: 0.2084(None, 24, 512) (None, 24, 512) (None, 24, 512)\n",
      "Tensor(\"model/coattention_model/MatMul_3:0\", shape=(None, 1, 512), dtype=float32)\n",
      "Tensor(\"model/coattention_model/MatMul_4:0\", shape=(None, 1, 512), dtype=float32)\n",
      "Tensor(\"model/coattention_model/MatMul_8:0\", shape=(None, 1, 512), dtype=float32)\n",
      "Tensor(\"model/coattention_model/MatMul_9:0\", shape=(None, 1, 512), dtype=float32)\n",
      "Tensor(\"model/coattention_model/MatMul_13:0\", shape=(None, 1, 512), dtype=float32)\n",
      "Tensor(\"model/coattention_model/MatMul_14:0\", shape=(None, 1, 512), dtype=float32)\n",
      "100/100 [==============================] - 325s 3s/step - loss: 4.5188 - accuracy: 0.2084 - val_loss: 3.9040 - val_accuracy: 0.1833\n",
      "Epoch 2/20\n",
      "100/100 [==============================] - 289s 3s/step - loss: 3.9771 - accuracy: 0.2259 - val_loss: 3.1244 - val_accuracy: 0.2297\n",
      "Epoch 3/20\n",
      "100/100 [==============================] - 286s 3s/step - loss: 3.4199 - accuracy: 0.2637 - val_loss: 2.7407 - val_accuracy: 0.2369\n",
      "Epoch 4/20\n",
      "100/100 [==============================] - 285s 3s/step - loss: 3.2260 - accuracy: 0.2602 - val_loss: 2.6799 - val_accuracy: 0.2392\n",
      "Epoch 5/20\n",
      "100/100 [==============================] - 288s 3s/step - loss: 3.1327 - accuracy: 0.2580 - val_loss: 2.6513 - val_accuracy: 0.2359\n",
      "Epoch 6/20\n",
      "100/100 [==============================] - 285s 3s/step - loss: 3.1178 - accuracy: 0.2595 - val_loss: 2.6713 - val_accuracy: 0.2420\n",
      "Epoch 7/20\n",
      "100/100 [==============================] - 286s 3s/step - loss: 3.1271 - accuracy: 0.2675 - val_loss: 2.6509 - val_accuracy: 0.2366\n",
      "Epoch 8/20\n",
      "100/100 [==============================] - 281s 3s/step - loss: 3.0848 - accuracy: 0.2625 - val_loss: 2.6598 - val_accuracy: 0.2342\n",
      "Epoch 9/20\n",
      "100/100 [==============================] - 285s 3s/step - loss: 3.0817 - accuracy: 0.2788 - val_loss: 2.6155 - val_accuracy: 0.2422\n",
      "Epoch 10/20\n",
      "100/100 [==============================] - 285s 3s/step - loss: 3.0574 - accuracy: 0.2803 - val_loss: 2.6089 - val_accuracy: 0.2286\n",
      "Epoch 11/20\n",
      "100/100 [==============================] - 284s 3s/step - loss: 3.0543 - accuracy: 0.2728 - val_loss: 2.5903 - val_accuracy: 0.2416\n",
      "Epoch 12/20\n",
      "100/100 [==============================] - 284s 3s/step - loss: 3.0932 - accuracy: 0.2728 - val_loss: 2.6020 - val_accuracy: 0.2308\n",
      "Epoch 13/20\n",
      "100/100 [==============================] - 279s 3s/step - loss: 3.0325 - accuracy: 0.2681 - val_loss: 2.5638 - val_accuracy: 0.2412\n",
      "Epoch 14/20\n",
      "100/100 [==============================] - 277s 3s/step - loss: 3.0375 - accuracy: 0.2695 - val_loss: 2.5557 - val_accuracy: 0.2425\n",
      "Epoch 15/20\n",
      "100/100 [==============================] - 275s 3s/step - loss: 2.9458 - accuracy: 0.2750 - val_loss: 2.5264 - val_accuracy: 0.2428\n",
      "Epoch 16/20\n",
      "100/100 [==============================] - 281s 3s/step - loss: 2.9225 - accuracy: 0.2758 - val_loss: 2.5404 - val_accuracy: 0.2491\n",
      "Epoch 17/20\n",
      "100/100 [==============================] - 280s 3s/step - loss: 3.0718 - accuracy: 0.2692 - val_loss: 2.5264 - val_accuracy: 0.2422\n",
      "Epoch 18/20\n",
      "100/100 [==============================] - 275s 3s/step - loss: 2.8851 - accuracy: 0.2947 - val_loss: 2.5501 - val_accuracy: 0.2412\n",
      "Epoch 19/20\n",
      "100/100 [==============================] - 284s 3s/step - loss: 2.9070 - accuracy: 0.2819 - val_loss: 2.5143 - val_accuracy: 0.2444\n",
      "Epoch 20/20\n",
      "100/100 [==============================] - 281s 3s/step - loss: 2.9162 - accuracy: 0.2719 - val_loss: 2.4892 - val_accuracy: 0.2470\n"
     ]
    }
   ],
   "source": [
    "model = Build_CoattentionModel()\n",
    "l2_alpha = 0.001\n",
    "ModelName = 'Coattention'\n",
    "history = model.fit(dataset_train, epochs = 20, steps_per_epoch=100, validation_data=dataset_val,validation_steps=100)"
   ]
  },
  {
   "cell_type": "code",
   "execution_count": 46,
   "metadata": {},
   "outputs": [],
   "source": [
    "model.save('Models/coattention.h5')"
   ]
  },
  {
   "cell_type": "markdown",
   "metadata": {},
   "source": [
    "                                                                                   SGD"
   ]
  },
  {
   "cell_type": "code",
   "execution_count": 41,
   "metadata": {},
   "outputs": [],
   "source": [
    "def Build_CoattentionModel():\n",
    "    image_input1 = tf.keras.layers.Input(shape = (14,14, 512))\n",
    "    image_input = tf.keras.layers.Reshape((-1, 512))(image_input1)\n",
    "\n",
    "    question_input = tf.keras.layers.Input(shape=(question_vector_train.shape[1],))\n",
    "\n",
    "    output = CoattentionModel()(image_input, question_input)#num_embeddings = len(ques_vocab), num_classes = len(ans_vocab), embed_dim = 512\n",
    "\n",
    "    model = tf.keras.models.Model(inputs = [image_input1, question_input], outputs = output)\n",
    "\n",
    "    model.compile(optimizer = tf.keras.optimizers.SGD(), loss = 'categorical_crossentropy', metrics = ['accuracy'])\n",
    "    return model"
   ]
  },
  {
   "cell_type": "code",
   "execution_count": 42,
   "metadata": {},
   "outputs": [
    {
     "name": "stdout",
     "output_type": "stream",
     "text": [
      "(None, 24, 512) (None, 24, 512) (None, 24, 512)\n",
      "Tensor(\"coattention_model/MatMul_3:0\", shape=(None, 1, 512), dtype=float32)\n",
      "Tensor(\"coattention_model/MatMul_4:0\", shape=(None, 1, 512), dtype=float32)\n",
      "Tensor(\"coattention_model/MatMul_8:0\", shape=(None, 1, 512), dtype=float32)\n",
      "Tensor(\"coattention_model/MatMul_9:0\", shape=(None, 1, 512), dtype=float32)\n",
      "Tensor(\"coattention_model/MatMul_13:0\", shape=(None, 1, 512), dtype=float32)\n",
      "Tensor(\"coattention_model/MatMul_14:0\", shape=(None, 1, 512), dtype=float32)\n",
      "Epoch 1/20\n",
      "(None, 24, 512) (None, 24, 512) (None, 24, 512)\n",
      "Tensor(\"model/coattention_model/MatMul_3:0\", shape=(None, 1, 512), dtype=float32)\n",
      "Tensor(\"model/coattention_model/MatMul_4:0\", shape=(None, 1, 512), dtype=float32)\n",
      "Tensor(\"model/coattention_model/MatMul_8:0\", shape=(None, 1, 512), dtype=float32)\n",
      "Tensor(\"model/coattention_model/MatMul_9:0\", shape=(None, 1, 512), dtype=float32)\n",
      "Tensor(\"model/coattention_model/MatMul_13:0\", shape=(None, 1, 512), dtype=float32)\n",
      "Tensor(\"model/coattention_model/MatMul_14:0\", shape=(None, 1, 512), dtype=float32)\n",
      "(None, 24, 512) (None, 24, 512) (None, 24, 512)\n",
      "Tensor(\"model/coattention_model/MatMul_3:0\", shape=(None, 1, 512), dtype=float32)\n",
      "Tensor(\"model/coattention_model/MatMul_4:0\", shape=(None, 1, 512), dtype=float32)\n",
      "Tensor(\"model/coattention_model/MatMul_8:0\", shape=(None, 1, 512), dtype=float32)\n",
      "Tensor(\"model/coattention_model/MatMul_9:0\", shape=(None, 1, 512), dtype=float32)\n",
      "Tensor(\"model/coattention_model/MatMul_13:0\", shape=(None, 1, 512), dtype=float32)\n",
      "Tensor(\"model/coattention_model/MatMul_14:0\", shape=(None, 1, 512), dtype=float32)\n",
      "100/100 [==============================] - ETA: 0s - loss: 4.7477 - accuracy: 0.1980(None, 24, 512) (None, 24, 512) (None, 24, 512)\n",
      "Tensor(\"model/coattention_model/MatMul_3:0\", shape=(None, 1, 512), dtype=float32)\n",
      "Tensor(\"model/coattention_model/MatMul_4:0\", shape=(None, 1, 512), dtype=float32)\n",
      "Tensor(\"model/coattention_model/MatMul_8:0\", shape=(None, 1, 512), dtype=float32)\n",
      "Tensor(\"model/coattention_model/MatMul_9:0\", shape=(None, 1, 512), dtype=float32)\n",
      "Tensor(\"model/coattention_model/MatMul_13:0\", shape=(None, 1, 512), dtype=float32)\n",
      "Tensor(\"model/coattention_model/MatMul_14:0\", shape=(None, 1, 512), dtype=float32)\n",
      "100/100 [==============================] - 305s 3s/step - loss: 4.7477 - accuracy: 0.1980 - val_loss: 3.7852 - val_accuracy: 0.1881\n",
      "Epoch 2/20\n",
      "100/100 [==============================] - 288s 3s/step - loss: 4.4418 - accuracy: 0.2095 - val_loss: 3.6942 - val_accuracy: 0.1833\n",
      "Epoch 3/20\n",
      "100/100 [==============================] - 297s 3s/step - loss: 4.2909 - accuracy: 0.2141 - val_loss: 3.6624 - val_accuracy: 0.1881\n",
      "Epoch 4/20\n",
      "100/100 [==============================] - 288s 3s/step - loss: 4.2922 - accuracy: 0.2105 - val_loss: 3.6131 - val_accuracy: 0.1897\n",
      "Epoch 5/20\n",
      "100/100 [==============================] - 287s 3s/step - loss: 4.2538 - accuracy: 0.2083 - val_loss: 3.5811 - val_accuracy: 0.1881\n",
      "Epoch 6/20\n",
      "100/100 [==============================] - 293s 3s/step - loss: 4.1888 - accuracy: 0.2194 - val_loss: 3.5181 - val_accuracy: 0.1844\n",
      "Epoch 7/20\n",
      "100/100 [==============================] - 290s 3s/step - loss: 4.1395 - accuracy: 0.2188 - val_loss: 3.3564 - val_accuracy: 0.1916\n",
      "Epoch 8/20\n",
      "100/100 [==============================] - 291s 3s/step - loss: 4.0061 - accuracy: 0.2275 - val_loss: 3.0983 - val_accuracy: 0.2342\n",
      "Epoch 9/20\n",
      "100/100 [==============================] - 288s 3s/step - loss: 3.7524 - accuracy: 0.2525 - val_loss: 2.9713 - val_accuracy: 0.2397\n",
      "Epoch 10/20\n",
      "100/100 [==============================] - 284s 3s/step - loss: 3.5831 - accuracy: 0.2600 - val_loss: 2.9928 - val_accuracy: 0.2350\n",
      "Epoch 11/20\n",
      "100/100 [==============================] - 285s 3s/step - loss: 3.5273 - accuracy: 0.2597 - val_loss: 2.8775 - val_accuracy: 0.2358\n",
      "Epoch 12/20\n",
      "100/100 [==============================] - 280s 3s/step - loss: 3.5259 - accuracy: 0.2637 - val_loss: 2.8311 - val_accuracy: 0.2362\n",
      "Epoch 13/20\n",
      "100/100 [==============================] - 282s 3s/step - loss: 3.7270 - accuracy: 0.2466 - val_loss: 2.8325 - val_accuracy: 0.2306\n",
      "Epoch 14/20\n",
      "100/100 [==============================] - 281s 3s/step - loss: 3.4643 - accuracy: 0.2522 - val_loss: 2.7848 - val_accuracy: 0.2387\n",
      "Epoch 15/20\n",
      "100/100 [==============================] - 282s 3s/step - loss: 3.2905 - accuracy: 0.2752 - val_loss: 2.7561 - val_accuracy: 0.2280\n",
      "Epoch 16/20\n",
      "100/100 [==============================] - 283s 3s/step - loss: 3.2688 - accuracy: 0.2594 - val_loss: 2.7228 - val_accuracy: 0.2412\n",
      "Epoch 17/20\n",
      "100/100 [==============================] - 280s 3s/step - loss: 3.3741 - accuracy: 0.2481 - val_loss: 2.7094 - val_accuracy: 0.2328\n",
      "Epoch 18/20\n",
      "100/100 [==============================] - 278s 3s/step - loss: 3.1991 - accuracy: 0.2703 - val_loss: 2.7155 - val_accuracy: 0.2405\n",
      "Epoch 19/20\n",
      "100/100 [==============================] - 280s 3s/step - loss: 3.2266 - accuracy: 0.2581 - val_loss: 2.7036 - val_accuracy: 0.2427\n",
      "Epoch 20/20\n",
      "100/100 [==============================] - 286s 3s/step - loss: 3.2090 - accuracy: 0.2667 - val_loss: 2.6797 - val_accuracy: 0.2433\n"
     ]
    }
   ],
   "source": [
    "model = Build_CoattentionModel()\n",
    "l2_alpha = 0.001\n",
    "ModelName = 'Coattention'\n",
    "history = model.fit(dataset_train, epochs = 20, steps_per_epoch=100, validation_data=dataset_val,validation_steps=100)"
   ]
  },
  {
   "cell_type": "code",
   "execution_count": 43,
   "metadata": {},
   "outputs": [],
   "source": [
    "model.save('Models/coattention_SGD.h5')"
   ]
  },
  {
   "cell_type": "code",
   "execution_count": null,
   "metadata": {},
   "outputs": [],
   "source": []
  },
  {
   "cell_type": "markdown",
   "metadata": {},
   "source": [
    "                                     LSTM units 256, hidden size 256"
   ]
  },
  {
   "cell_type": "code",
   "execution_count": 44,
   "metadata": {},
   "outputs": [],
   "source": [
    "class CoattentionModel(tf.keras.layers.Layer):\n",
    "    def __init__(self):#, num_embeddings, num_classes, embed_dim=512, k=30\n",
    "        super().__init__()\n",
    "        self.num_classes = len(ans_vocab)\n",
    "        self.hidden_size = 256\n",
    "        self.dropout = 0.3\n",
    "        self.num_embeddings = len(ques_vocab)+1\n",
    "\n",
    "        self.image_dense = tf.keras.layers.Dense(self.hidden_size, kernel_initializer = tf.keras.initializers.glorot_normal(seed=15)) \n",
    "        self.image_corr = tf.keras.layers.Dense(self.hidden_size, kernel_initializer = tf.keras.initializers.glorot_normal(seed=29))\n",
    "\n",
    "        self.image_atten_dense = tf.keras.layers.Dense(self.hidden_size, kernel_initializer = tf.keras.initializers.glorot_uniform(seed=17)) \n",
    "        self.question_atten_dens = tf.keras.layers.Dense(self.hidden_size, kernel_initializer = tf.keras.initializers.glorot_uniform(seed=28))\n",
    "        self.question_atten_dropout = tf.keras.layers.Dropout(self.dropout)\n",
    "        self.image_atten_dropout = tf.keras.layers.Dropout(self.dropout)\n",
    "\n",
    "        self.ques_atten = tf.keras.layers.Dense(1, kernel_initializer = tf.keras.initializers.glorot_uniform(seed=21))\n",
    "\n",
    "        self.img_atten = tf.keras.layers.Dense(1, kernel_initializer = tf.keras.initializers.glorot_uniform(seed=33))\n",
    "\n",
    "        self.embed = tf.keras.layers.Embedding(self.num_embeddings, self.hidden_size,\n",
    "                                               embeddings_initializer = tf.keras.initializers.RandomNormal(mean=0, stddev=1, seed=23))\n",
    "        \n",
    "        self.unigram_conv = tf.keras.layers.Conv1D(filters = self.hidden_size, kernel_size = 1, strides = 1, padding = 'same', kernel_initializer = tf.keras.initializers.glorot_normal(seed=41))\n",
    "        self.bigram_conv  = tf.keras.layers.Conv1D(filters = self.hidden_size, kernel_size = 2, strides = 1, padding = 'same', kernel_initializer = tf.keras.initializers.glorot_normal(seed=58), dilation_rate = 2)\n",
    "        self.trigram_conv = tf.keras.layers.Conv1D(filters = self.hidden_size, kernel_size = 3, strides = 1, padding = 'same', kernel_initializer = tf.keras.initializers.glorot_normal(seed=89), dilation_rate = 2)\n",
    "        self.max_pool = tf.keras.layers.MaxPool2D((3,1))\n",
    "        self.phrase_dropout = tf.keras.layers.Dropout(self.dropout)\n",
    "        \n",
    "        self.lstm = tf.keras.layers.LSTM(units = 256, return_sequences=True, dropout = self.dropout,\n",
    "                                         kernel_initializer = tf.keras.initializers.glorot_uniform(seed=26),\n",
    "                                         recurrent_initializer = tf.keras.initializers.orthogonal(seed=54))\n",
    "        \n",
    "        self.tanh = tf.keras.layers.Activation('tanh')\n",
    "        self.softmax = tf.keras.layers.Activation('softmax')\n",
    "        \n",
    "        self.W_w_dropout = tf.keras.layers.Dropout(self.dropout)\n",
    "        self.W_p_dropout = tf.keras.layers.Dropout(self.dropout)\n",
    "        self.W_s_dropout = tf.keras.layers.Dropout(self.dropout)\n",
    "\n",
    "        self.W_w = tf.keras.layers.Dense(units = self.hidden_size, kernel_initializer = tf.keras.initializers.glorot_uniform(seed=32), input_shape = (self.hidden_size,))\n",
    "        self.W_p = tf.keras.layers.Dense(units = self.hidden_size, kernel_initializer = tf.keras.initializers.glorot_uniform(seed=49), input_shape = (2 * self.hidden_size, ))\n",
    "        self.W_s = tf.keras.layers.Dense(units = self.hidden_size, kernel_initializer = tf.keras.initializers.glorot_uniform(seed=31), input_shape = (2 * self.hidden_size, ))\n",
    "        \n",
    "        self.fc1_Dense = tf.keras.layers.Dense(units = 2 * self.hidden_size, activation='relu',\n",
    "                                               kernel_initializer = tf.keras.initializers.he_normal(seed=84))\n",
    "        self.fc1_dropout = tf.keras.layers.Dropout(self.dropout)\n",
    "\n",
    "        self.fc = tf.keras.layers.Dense(units = self.num_classes, activation='softmax',kernel_initializer = tf.keras.initializers.glorot_uniform(seed=91), input_shape = (self.hidden_size,))\n",
    "        \n",
    "        return\n",
    "\n",
    "    def call(self, image, question):#Image: B x 196 x 512\n",
    "        \n",
    "        image = self.image_dense(image)\n",
    "        image = self.tanh(image)\n",
    "\n",
    "        words = self.embed(question)    # Words: B x L x 51\n",
    "\n",
    "        unigrams =  tf.expand_dims(self.tanh(self.unigram_conv(words)), 1) # B x L x 512\n",
    "        bigrams  =  tf.expand_dims(self.tanh(self.bigram_conv(words)), 1)  # B x L x 512\n",
    "        trigrams =  tf.expand_dims(self.tanh(self.trigram_conv(words)), 1) # B x L x 512\n",
    "\n",
    "        phrase = tf.squeeze(self.max_pool(tf.concat((unigrams, bigrams, trigrams), 1)), axis=1)  # B x L x 512\n",
    "        phrase = self.tanh(phrase)\n",
    "        phrase = self.phrase_dropout(phrase)\n",
    "  \n",
    "        hidden = None\n",
    "        sentence = self.lstm(phrase)        # B x L x 512   \n",
    "\n",
    "        #print(words.shape, phrase.shape, sentence.shape)\n",
    "        v_word, q_word = self.co_attention(image, words)\n",
    "        v_phrase, q_phrase = self.co_attention(image, phrase)\n",
    "        v_sent, q_sent = self.co_attention(image, sentence)\n",
    "\n",
    "        h_w = self.tanh(self.W_w(self.W_w_dropout(q_word + v_word)))\n",
    "        h_p = self.tanh(self.W_p(self.W_p_dropout(tf.concat(((q_phrase + v_phrase), h_w), axis=1))))\n",
    "        h_s = self.tanh(self.W_s(self.W_s_dropout(tf.concat(((q_sent + v_sent), h_p), axis=1))))\n",
    "\n",
    "        fc1 = self.fc1_Dense(self.fc1_dropout(h_s))\n",
    "        logits = self.fc(fc1)\n",
    "\n",
    "        return logits\n",
    "\n",
    "    def co_attention(self, img_feat, ques_feat):  # V : B x 512 x 196, Q : B x L x 512\n",
    "        img_corr = self.image_corr(img_feat)\n",
    "\n",
    "        weight_matrix = tf.keras.backend.batch_dot(ques_feat, img_corr, axes = (2, 2))\n",
    "        weight_matrix = self.tanh(weight_matrix)\n",
    "\n",
    "        ques_embed = self.image_atten_dense(ques_feat)\n",
    "        img_embed = self.question_atten_dens(img_feat)\n",
    "\n",
    "        transform_img = tf.keras.backend.batch_dot(weight_matrix, img_embed)\n",
    "\n",
    "        ques_atten_sum = self.tanh(transform_img + ques_embed)\n",
    "        ques_atten_sum = self.question_atten_dropout(ques_atten_sum)\n",
    "        ques_atten = self.ques_atten(ques_atten_sum)\n",
    "        ques_atten =  tf.keras.layers.Reshape((ques_atten.shape[1],))(ques_atten)\n",
    "        ques_atten =  self.softmax(ques_atten)\n",
    "\n",
    "        transform_ques = tf.keras.backend.batch_dot(weight_matrix, ques_embed, axes = (1, 1))\n",
    "        img_atten_sum = self.tanh(transform_ques+img_embed)\n",
    "        img_atten_sum = self.image_atten_dropout(img_atten_sum)\n",
    "        img_atten = self.img_atten(img_atten_sum)\n",
    "        img_atten = tf.keras.layers.Reshape((img_atten.shape[1],))(img_atten)\n",
    "        img_atten = self.softmax(img_atten)\n",
    "\n",
    "        ques_atten = tf.keras.layers.Reshape(( 1, ques_atten.shape[1]))(ques_atten)\n",
    "        img_atten = tf.keras.layers.Reshape(( 1, img_atten.shape[1]))(img_atten)\n",
    "\n",
    "        ques_atten_feat = tf.keras.backend.batch_dot(ques_atten,ques_feat)\n",
    "        #print(ques_atten_feat)\n",
    "        ques_atten_feat = tf.keras.layers.Reshape(( ques_atten_feat.shape[-1],))(ques_atten_feat)\n",
    "\n",
    "        img_atten_feat =  tf.keras.backend.batch_dot(img_atten, img_feat)\n",
    "        #print(img_atten_feat)\n",
    "        img_atten_feat = tf.keras.layers.Reshape((img_atten_feat.shape[-1],))(img_atten_feat)\n",
    "\n",
    "        return img_atten_feat, ques_atten_feat"
   ]
  },
  {
   "cell_type": "code",
   "execution_count": 45,
   "metadata": {},
   "outputs": [],
   "source": [
    "def scheduler(epoch):\n",
    "    if epoch < 10:\n",
    "        return 0.0001\n",
    "    else:\n",
    "        return 0.0001 * tf.math.exp(0.1 * (10 - epoch))"
   ]
  },
  {
   "cell_type": "code",
   "execution_count": 46,
   "metadata": {},
   "outputs": [],
   "source": [
    "def callBacksList():\n",
    "    \"\"\"\n",
    "    returns list of callback's\n",
    "    \"\"\"\n",
    "    filepath = \"Models\" + ModelName + \"/optimum.hdf5\"\n",
    "    checkpoint = tf.keras.callbacks.ModelCheckpoint(filepath = filepath, monitor = 'val_accuracy', verbose = 1, save_best_only = True, mode = 'auto')\n",
    "    reduce_lr = tf.keras.callbacks.ReduceLROnPlateau(monitor = 'val_accuracy', patience = 2)\n",
    "    early_stop = tf.keras.callbacks.EarlyStopping(monitor = 'val_accuracy', patience = 4, verbose = 1)\n",
    "    scheduler_lr = tf.keras.callbacks.LearningRateScheduler(scheduler, verbose=0 )\n",
    "\n",
    "    #directory for tensorboard to save evnts\n",
    "    log_dir= \"Models\" + \"logs/fit/\" + ModelName + \"/\" + datetime.datetime.now().strftime(\"%Y%m%d-%H%M%S\")\n",
    "    os.makedirs(log_dir)\n",
    "\n",
    "    #print(\"TensorBoard Folder for this Execution\",log_dir)#creating TensorBoard call back,this will write all events to given folder\n",
    "    tensorboard_callback = tf.keras.callbacks.TensorBoard(log_dir = log_dir, histogram_freq = 0)\n",
    "\n",
    "    history = tf.keras.callbacks.History()\n",
    "    callbacks_list = [scheduler_lr, early_stop, history, tensorboard_callback, checkpoint]\n",
    "    return callbacks_list"
   ]
  },
  {
   "cell_type": "code",
   "execution_count": 49,
   "metadata": {},
   "outputs": [],
   "source": [
    "def Build_CoattentionModel():\n",
    "    image_input1 = tf.keras.layers.Input(shape = (14,14, 512))\n",
    "    image_input = tf.keras.layers.Reshape((-1, 512))(image_input1)\n",
    "\n",
    "    question_input = tf.keras.layers.Input(shape=(question_vector_train.shape[1],))\n",
    "\n",
    "    output = CoattentionModel()(image_input, question_input)#num_embeddings = len(ques_vocab), num_classes = len(ans_vocab), embed_dim = 512\n",
    "\n",
    "    model = tf.keras.models.Model(inputs = [image_input1, question_input], outputs = output)\n",
    "\n",
    "    model.compile(optimizer = tf.keras.optimizers.Adam(), loss = 'categorical_crossentropy', metrics = ['accuracy'])\n",
    "    return model"
   ]
  },
  {
   "cell_type": "code",
   "execution_count": 50,
   "metadata": {},
   "outputs": [
    {
     "name": "stdout",
     "output_type": "stream",
     "text": [
      "Epoch 1/20\n",
      "100/100 [==============================] - 221s 2s/step - loss: 4.4613 - accuracy: 0.2103 - val_loss: 3.6911 - val_accuracy: 0.1881\n",
      "Epoch 2/20\n",
      "100/100 [==============================] - 226s 2s/step - loss: 3.8317 - accuracy: 0.2400 - val_loss: 3.1435 - val_accuracy: 0.2252\n",
      "Epoch 3/20\n",
      "100/100 [==============================] - 221s 2s/step - loss: 3.5039 - accuracy: 0.2547 - val_loss: 2.8165 - val_accuracy: 0.2216\n",
      "Epoch 4/20\n",
      "100/100 [==============================] - 219s 2s/step - loss: 3.3604 - accuracy: 0.2711 - val_loss: 2.7485 - val_accuracy: 0.2286\n",
      "Epoch 5/20\n",
      "100/100 [==============================] - 221s 2s/step - loss: 3.2512 - accuracy: 0.2608 - val_loss: 2.7051 - val_accuracy: 0.2389\n",
      "Epoch 6/20\n",
      "100/100 [==============================] - 221s 2s/step - loss: 3.2198 - accuracy: 0.2644 - val_loss: 2.7690 - val_accuracy: 0.2359\n",
      "Epoch 7/20\n",
      "100/100 [==============================] - 219s 2s/step - loss: 3.1970 - accuracy: 0.2616 - val_loss: 2.6798 - val_accuracy: 0.2427\n",
      "Epoch 8/20\n",
      "100/100 [==============================] - 218s 2s/step - loss: 3.1541 - accuracy: 0.2641 - val_loss: 2.6629 - val_accuracy: 0.2327\n",
      "Epoch 9/20\n",
      "100/100 [==============================] - 222s 2s/step - loss: 3.1121 - accuracy: 0.2663 - val_loss: 2.6391 - val_accuracy: 0.2389\n",
      "Epoch 10/20\n",
      "100/100 [==============================] - 221s 2s/step - loss: 3.0719 - accuracy: 0.2719 - val_loss: 2.6394 - val_accuracy: 0.2259\n",
      "Epoch 11/20\n",
      "100/100 [==============================] - 220s 2s/step - loss: 3.0742 - accuracy: 0.2695 - val_loss: 2.6009 - val_accuracy: 0.2383\n",
      "Epoch 12/20\n",
      "100/100 [==============================] - 220s 2s/step - loss: 3.1006 - accuracy: 0.2689 - val_loss: 2.5966 - val_accuracy: 0.2252\n",
      "Epoch 13/20\n",
      "100/100 [==============================] - 223s 2s/step - loss: 3.0481 - accuracy: 0.2711 - val_loss: 2.5762 - val_accuracy: 0.2405\n",
      "Epoch 14/20\n",
      "100/100 [==============================] - 221s 2s/step - loss: 3.0548 - accuracy: 0.2686 - val_loss: 2.5737 - val_accuracy: 0.2398\n",
      "Epoch 15/20\n",
      "100/100 [==============================] - 221s 2s/step - loss: 2.9595 - accuracy: 0.2759 - val_loss: 2.5592 - val_accuracy: 0.2416\n",
      "Epoch 16/20\n",
      "100/100 [==============================] - 222s 2s/step - loss: 2.9402 - accuracy: 0.2744 - val_loss: 2.5614 - val_accuracy: 0.2480\n",
      "Epoch 17/20\n",
      "100/100 [==============================] - 222s 2s/step - loss: 3.1001 - accuracy: 0.2598 - val_loss: 2.5614 - val_accuracy: 0.2361\n",
      "Epoch 18/20\n",
      "100/100 [==============================] - 221s 2s/step - loss: 2.9220 - accuracy: 0.2894 - val_loss: 2.5481 - val_accuracy: 0.2425\n",
      "Epoch 19/20\n",
      "100/100 [==============================] - 219s 2s/step - loss: 2.9529 - accuracy: 0.2822 - val_loss: 2.5300 - val_accuracy: 0.2425\n",
      "Epoch 20/20\n",
      "100/100 [==============================] - 217s 2s/step - loss: 2.9929 - accuracy: 0.2633 - val_loss: 2.5401 - val_accuracy: 0.2470\n"
     ]
    }
   ],
   "source": [
    "model = Build_CoattentionModel()\n",
    "l2_alpha = 0.001\n",
    "ModelName = 'Coattention'\n",
    "history = model.fit(dataset_train, epochs = 20, steps_per_epoch=100, validation_data=dataset_val,validation_steps=100)"
   ]
  },
  {
   "cell_type": "code",
   "execution_count": 51,
   "metadata": {},
   "outputs": [],
   "source": [
    "model.save('Models/coattention_lstm 256.h5')"
   ]
  },
  {
   "cell_type": "code",
   "execution_count": 57,
   "metadata": {},
   "outputs": [
    {
     "data": {
      "image/png": "[encoded data removed]",
      "text/plain": [
       "<Figure size 432x288 with 1 Axes>"
      ]
     },
     "metadata": {
      "needs_background": "light"
     },
     "output_type": "display_data"
    },
    {
     "data": {
      "image/png": "[encoded data removed]",
      "text/plain": [
       "<Figure size 432x288 with 1 Axes>"
      ]
     },
     "metadata": {
      "needs_background": "light"
     },
     "output_type": "display_data"
    }
   ],
   "source": [
    "# summarize history for accuracy\n",
    "plt.plot(history.history['accuracy'])\n",
    "plt.plot(history.history['val_accuracy'])\n",
    "plt.title('LSTM 256 Model accuracy')\n",
    "plt.ylabel('Accuracy')\n",
    "plt.xlabel('Epoch')\n",
    "plt.legend(['train', 'val'], loc='upper left')\n",
    "plt.show()\n",
    "# summarize history for loss\n",
    "plt.plot(history.history['loss'])\n",
    "plt.plot(history.history['val_loss'])\n",
    "plt.title('LSTM 256 Model Loss')\n",
    "plt.ylabel('loss')\n",
    "plt.xlabel('epoch')\n",
    "plt.legend(['train', 'val'], loc='upper left')\n",
    "plt.show()"
   ]
  },
  {
   "cell_type": "code",
   "execution_count": 58,
   "metadata": {},
   "outputs": [],
   "source": [
    "class CoattentionModel(tf.keras.layers.Layer):\n",
    "    def __init__(self):#, num_embeddings, num_classes, embed_dim=512, k=30\n",
    "        super().__init__()\n",
    "        self.num_classes = len(ans_vocab)\n",
    "        self.hidden_size = 512\n",
    "        self.dropout = 0.5\n",
    "        self.num_embeddings = len(ques_vocab)+1\n",
    "\n",
    "        self.image_dense = tf.keras.layers.Dense(self.hidden_size, kernel_initializer = tf.keras.initializers.glorot_normal(seed=15)) \n",
    "        self.image_corr = tf.keras.layers.Dense(self.hidden_size, kernel_initializer = tf.keras.initializers.glorot_normal(seed=29))\n",
    "\n",
    "        self.image_atten_dense = tf.keras.layers.Dense(self.hidden_size, kernel_initializer = tf.keras.initializers.glorot_uniform(seed=17)) \n",
    "        self.question_atten_dens = tf.keras.layers.Dense(self.hidden_size, kernel_initializer = tf.keras.initializers.glorot_uniform(seed=28))\n",
    "        self.question_atten_dropout = tf.keras.layers.Dropout(self.dropout)\n",
    "        self.image_atten_dropout = tf.keras.layers.Dropout(self.dropout)\n",
    "\n",
    "        self.ques_atten = tf.keras.layers.Dense(1, kernel_initializer = tf.keras.initializers.glorot_uniform(seed=21))\n",
    "\n",
    "        self.img_atten = tf.keras.layers.Dense(1, kernel_initializer = tf.keras.initializers.glorot_uniform(seed=33))\n",
    "\n",
    "        self.embed = tf.keras.layers.Embedding(self.num_embeddings, self.hidden_size,\n",
    "                                               embeddings_initializer = tf.keras.initializers.RandomNormal(mean=0, stddev=1, seed=23))\n",
    "        \n",
    "        self.unigram_conv = tf.keras.layers.Conv1D(filters = self.hidden_size, kernel_size = 1, strides = 1, padding = 'same', kernel_initializer = tf.keras.initializers.glorot_normal(seed=41))\n",
    "        self.bigram_conv  = tf.keras.layers.Conv1D(filters = self.hidden_size, kernel_size = 2, strides = 1, padding = 'same', kernel_initializer = tf.keras.initializers.glorot_normal(seed=58), dilation_rate = 2)\n",
    "        self.trigram_conv = tf.keras.layers.Conv1D(filters = self.hidden_size, kernel_size = 3, strides = 1, padding = 'same', kernel_initializer = tf.keras.initializers.glorot_normal(seed=89), dilation_rate = 2)\n",
    "        self.max_pool = tf.keras.layers.MaxPool2D((3,1))\n",
    "        self.phrase_dropout = tf.keras.layers.Dropout(self.dropout)\n",
    "        \n",
    "        self.lstm = tf.keras.layers.LSTM(units = 512, return_sequences=True, dropout = self.dropout,\n",
    "                                         kernel_initializer = tf.keras.initializers.glorot_uniform(seed=26),\n",
    "                                         recurrent_initializer = tf.keras.initializers.orthogonal(seed=54))\n",
    "        \n",
    "        self.tanh = tf.keras.layers.Activation('tanh')\n",
    "        self.softmax = tf.keras.layers.Activation('softmax')\n",
    "        \n",
    "        self.W_w_dropout = tf.keras.layers.Dropout(self.dropout)\n",
    "        self.W_p_dropout = tf.keras.layers.Dropout(self.dropout)\n",
    "        self.W_s_dropout = tf.keras.layers.Dropout(self.dropout)\n",
    "\n",
    "        self.W_w = tf.keras.layers.Dense(units = self.hidden_size, kernel_initializer = tf.keras.initializers.glorot_uniform(seed=32), input_shape = (self.hidden_size,))\n",
    "        self.W_p = tf.keras.layers.Dense(units = self.hidden_size, kernel_initializer = tf.keras.initializers.glorot_uniform(seed=49), input_shape = (2 * self.hidden_size, ))\n",
    "        self.W_s = tf.keras.layers.Dense(units = self.hidden_size, kernel_initializer = tf.keras.initializers.glorot_uniform(seed=31), input_shape = (2 * self.hidden_size, ))\n",
    "        \n",
    "        self.fc1_Dense = tf.keras.layers.Dense(units = 2 * self.hidden_size, activation='relu',\n",
    "                                               kernel_initializer = tf.keras.initializers.he_normal(seed=84))\n",
    "        self.fc1_dropout = tf.keras.layers.Dropout(self.dropout)\n",
    "\n",
    "        self.fc = tf.keras.layers.Dense(units = self.num_classes, activation='softmax',kernel_initializer = tf.keras.initializers.glorot_uniform(seed=91), input_shape = (self.hidden_size,))\n",
    "        \n",
    "        return\n",
    "\n",
    "    def call(self, image, question):#Image: B x 196 x 512\n",
    "        \n",
    "        image = self.image_dense(image)\n",
    "        image = self.tanh(image)\n",
    "\n",
    "        words = self.embed(question)    # Words: B x L x 51\n",
    "\n",
    "        unigrams =  tf.expand_dims(self.tanh(self.unigram_conv(words)), 1) # B x L x 512\n",
    "        bigrams  =  tf.expand_dims(self.tanh(self.bigram_conv(words)), 1)  # B x L x 512\n",
    "        trigrams =  tf.expand_dims(self.tanh(self.trigram_conv(words)), 1) # B x L x 512\n",
    "\n",
    "        phrase = tf.squeeze(self.max_pool(tf.concat((unigrams, bigrams, trigrams), 1)), axis=1)  # B x L x 512\n",
    "        phrase = self.tanh(phrase)\n",
    "        phrase = self.phrase_dropout(phrase)\n",
    "  \n",
    "        hidden = None\n",
    "        sentence = self.lstm(phrase)        # B x L x 512   \n",
    "\n",
    "        #print(words.shape, phrase.shape, sentence.shape)\n",
    "        v_word, q_word = self.co_attention(image, words)\n",
    "        v_phrase, q_phrase = self.co_attention(image, phrase)\n",
    "        v_sent, q_sent = self.co_attention(image, sentence)\n",
    "\n",
    "        h_w = self.tanh(self.W_w(self.W_w_dropout(q_word + v_word)))\n",
    "        h_p = self.tanh(self.W_p(self.W_p_dropout(tf.concat(((q_phrase + v_phrase), h_w), axis=1))))\n",
    "        h_s = self.tanh(self.W_s(self.W_s_dropout(tf.concat(((q_sent + v_sent), h_p), axis=1))))\n",
    "\n",
    "        fc1 = self.fc1_Dense(self.fc1_dropout(h_s))\n",
    "        logits = self.fc(fc1)\n",
    "\n",
    "        return logits\n",
    "\n",
    "    def co_attention(self, img_feat, ques_feat):  # V : B x 512 x 196, Q : B x L x 512\n",
    "        img_corr = self.image_corr(img_feat)\n",
    "\n",
    "        weight_matrix = tf.keras.backend.batch_dot(ques_feat, img_corr, axes = (2, 2))\n",
    "        weight_matrix = self.tanh(weight_matrix)\n",
    "\n",
    "        ques_embed = self.image_atten_dense(ques_feat)\n",
    "        img_embed = self.question_atten_dens(img_feat)\n",
    "\n",
    "        transform_img = tf.keras.backend.batch_dot(weight_matrix, img_embed)\n",
    "\n",
    "        ques_atten_sum = self.tanh(transform_img + ques_embed)\n",
    "        ques_atten_sum = self.question_atten_dropout(ques_atten_sum)\n",
    "        ques_atten = self.ques_atten(ques_atten_sum)\n",
    "        ques_atten =  tf.keras.layers.Reshape((ques_atten.shape[1],))(ques_atten)\n",
    "        ques_atten =  self.softmax(ques_atten)\n",
    "\n",
    "        transform_ques = tf.keras.backend.batch_dot(weight_matrix, ques_embed, axes = (1, 1))\n",
    "        img_atten_sum = self.tanh(transform_ques+img_embed)\n",
    "        img_atten_sum = self.image_atten_dropout(img_atten_sum)\n",
    "        img_atten = self.img_atten(img_atten_sum)\n",
    "        img_atten = tf.keras.layers.Reshape((img_atten.shape[1],))(img_atten)\n",
    "        img_atten = self.softmax(img_atten)\n",
    "\n",
    "        ques_atten = tf.keras.layers.Reshape(( 1, ques_atten.shape[1]))(ques_atten)\n",
    "        img_atten = tf.keras.layers.Reshape(( 1, img_atten.shape[1]))(img_atten)\n",
    "\n",
    "        ques_atten_feat = tf.keras.backend.batch_dot(ques_atten,ques_feat)\n",
    "        #print(ques_atten_feat)\n",
    "        ques_atten_feat = tf.keras.layers.Reshape(( ques_atten_feat.shape[-1],))(ques_atten_feat)\n",
    "\n",
    "        img_atten_feat =  tf.keras.backend.batch_dot(img_atten, img_feat)\n",
    "        #print(img_atten_feat)\n",
    "        img_atten_feat = tf.keras.layers.Reshape((img_atten_feat.shape[-1],))(img_atten_feat)\n",
    "\n",
    "        return img_atten_feat, ques_atten_feat"
   ]
  },
  {
   "cell_type": "code",
   "execution_count": 59,
   "metadata": {},
   "outputs": [],
   "source": [
    "def scheduler(epoch):\n",
    "    if epoch < 10:\n",
    "        return 0.0001\n",
    "    else:\n",
    "        return 0.0001 * tf.math.exp(0.1 * (10 - epoch))"
   ]
  },
  {
   "cell_type": "code",
   "execution_count": 60,
   "metadata": {},
   "outputs": [],
   "source": [
    "def callBacksList():\n",
    "    \"\"\"\n",
    "    returns list of callback's\n",
    "    \"\"\"\n",
    "    filepath = \"Models\" + ModelName + \"/optimum.hdf5\"\n",
    "    checkpoint = tf.keras.callbacks.ModelCheckpoint(filepath = filepath, monitor = 'val_accuracy', verbose = 1, save_best_only = True, mode = 'auto')\n",
    "    reduce_lr = tf.keras.callbacks.ReduceLROnPlateau(monitor = 'val_accuracy', patience = 2)\n",
    "    early_stop = tf.keras.callbacks.EarlyStopping(monitor = 'val_accuracy', patience = 4, verbose = 1)\n",
    "    scheduler_lr = tf.keras.callbacks.LearningRateScheduler(scheduler, verbose=0 )\n",
    "\n",
    "    #directory for tensorboard to save evnts\n",
    "    log_dir= \"Models\" + \"logs/fit/\" + ModelName + \"/\" + datetime.datetime.now().strftime(\"%Y%m%d-%H%M%S\")\n",
    "    os.makedirs(log_dir)\n",
    "\n",
    "    #print(\"TensorBoard Folder for this Execution\",log_dir)#creating TensorBoard call back,this will write all events to given folder\n",
    "    tensorboard_callback = tf.keras.callbacks.TensorBoard(log_dir = log_dir, histogram_freq = 0)\n",
    "\n",
    "    history = tf.keras.callbacks.History()\n",
    "    callbacks_list = [scheduler_lr, early_stop, history, tensorboard_callback, checkpoint]\n",
    "    return callbacks_list"
   ]
  },
  {
   "cell_type": "code",
   "execution_count": 61,
   "metadata": {},
   "outputs": [],
   "source": [
    "def Build_CoattentionModel():\n",
    "    image_input1 = tf.keras.layers.Input(shape = (14,14, 512))\n",
    "    image_input = tf.keras.layers.Reshape((-1, 512))(image_input1)\n",
    "\n",
    "    question_input = tf.keras.layers.Input(shape=(question_vector_train.shape[1],))\n",
    "\n",
    "    output = CoattentionModel()(image_input, question_input)#num_embeddings = len(ques_vocab), num_classes = len(ans_vocab), embed_dim = 512\n",
    "\n",
    "    model = tf.keras.models.Model(inputs = [image_input1, question_input], outputs = output)\n",
    "\n",
    "    model.compile(optimizer = tf.keras.optimizers.Adam(), loss = 'categorical_crossentropy', metrics = ['accuracy'])\n",
    "    return model"
   ]
  },
  {
   "cell_type": "code",
   "execution_count": 62,
   "metadata": {},
   "outputs": [
    {
     "name": "stdout",
     "output_type": "stream",
     "text": [
      "Epoch 1/20\n",
      "100/100 [==============================] - 406s 4s/step - loss: 4.5150 - accuracy: 0.1991 - val_loss: 4.2601 - val_accuracy: 0.1881\n",
      "Epoch 2/20\n",
      "100/100 [==============================] - 374s 4s/step - loss: 4.1656 - accuracy: 0.2192 - val_loss: 3.3560 - val_accuracy: 0.2747\n",
      "Epoch 3/20\n",
      "100/100 [==============================] - 377s 4s/step - loss: 3.6716 - accuracy: 0.2383 - val_loss: 3.0593 - val_accuracy: 0.2095\n",
      "Epoch 4/20\n",
      "100/100 [==============================] - 377s 4s/step - loss: 3.5880 - accuracy: 0.2459 - val_loss: 2.9150 - val_accuracy: 0.2147\n",
      "Epoch 5/20\n",
      "100/100 [==============================] - 381s 4s/step - loss: 3.4152 - accuracy: 0.2531 - val_loss: 2.8382 - val_accuracy: 0.2389\n",
      "Epoch 6/20\n",
      "100/100 [==============================] - 376s 4s/step - loss: 3.2719 - accuracy: 0.2617 - val_loss: 2.8132 - val_accuracy: 0.2375\n",
      "Epoch 7/20\n",
      "100/100 [==============================] - 379s 4s/step - loss: 3.2895 - accuracy: 0.2528 - val_loss: 2.7640 - val_accuracy: 0.2308\n",
      "Epoch 8/20\n",
      "100/100 [==============================] - 388s 4s/step - loss: 3.2016 - accuracy: 0.2600 - val_loss: 2.6999 - val_accuracy: 0.2336\n",
      "Epoch 9/20\n",
      "100/100 [==============================] - 382s 4s/step - loss: 3.1499 - accuracy: 0.2709 - val_loss: 2.6464 - val_accuracy: 0.2409\n",
      "Epoch 10/20\n",
      "100/100 [==============================] - 377s 4s/step - loss: 3.1035 - accuracy: 0.2773 - val_loss: 2.6289 - val_accuracy: 0.2302\n",
      "Epoch 11/20\n",
      "100/100 [==============================] - 387s 4s/step - loss: 3.0981 - accuracy: 0.2703 - val_loss: 2.6392 - val_accuracy: 0.2394\n",
      "Epoch 12/20\n",
      "100/100 [==============================] - 381s 4s/step - loss: 3.1436 - accuracy: 0.2673 - val_loss: 2.6294 - val_accuracy: 0.2173\n",
      "Epoch 13/20\n",
      "100/100 [==============================] - 381s 4s/step - loss: 3.0943 - accuracy: 0.2617 - val_loss: 2.5980 - val_accuracy: 0.2342\n",
      "Epoch 14/20\n",
      "100/100 [==============================] - 383s 4s/step - loss: 3.0883 - accuracy: 0.2770 - val_loss: 2.5936 - val_accuracy: 0.2391\n",
      "Epoch 15/20\n",
      "100/100 [==============================] - 378s 4s/step - loss: 3.0020 - accuracy: 0.2730 - val_loss: 2.5723 - val_accuracy: 0.2408\n",
      "Epoch 16/20\n",
      "100/100 [==============================] - 381s 4s/step - loss: 2.9825 - accuracy: 0.2775 - val_loss: 2.5939 - val_accuracy: 0.2420\n",
      "Epoch 17/20\n",
      "100/100 [==============================] - 388s 4s/step - loss: 3.1560 - accuracy: 0.2609 - val_loss: 2.5718 - val_accuracy: 0.2372\n",
      "Epoch 18/20\n",
      "100/100 [==============================] - 387s 4s/step - loss: 2.9540 - accuracy: 0.2850 - val_loss: 2.5837 - val_accuracy: 0.2402\n",
      "Epoch 19/20\n",
      "100/100 [==============================] - 383s 4s/step - loss: 3.0051 - accuracy: 0.2770 - val_loss: 2.5729 - val_accuracy: 0.2414\n",
      "Epoch 20/20\n",
      "100/100 [==============================] - 388s 4s/step - loss: 3.0129 - accuracy: 0.2597 - val_loss: 2.5449 - val_accuracy: 0.2411\n"
     ]
    }
   ],
   "source": [
    "model = Build_CoattentionModel()\n",
    "l2_alpha = 0.001\n",
    "ModelName = 'Coattention'\n",
    "history = model.fit(dataset_train, epochs = 20, steps_per_epoch=100, validation_data=dataset_val,validation_steps=100)"
   ]
  },
  {
   "cell_type": "code",
   "execution_count": 63,
   "metadata": {},
   "outputs": [],
   "source": [
    "model.save('Models/coattention dropout 0.5.h5')"
   ]
  },
  {
   "cell_type": "code",
   "execution_count": 64,
   "metadata": {},
   "outputs": [
    {
     "data": {
      "image/png": "[encoded data removed]",
      "text/plain": [
       "<Figure size 432x288 with 1 Axes>"
      ]
     },
     "metadata": {
      "needs_background": "light"
     },
     "output_type": "display_data"
    },
    {
     "data": {
      "image/png": "[encoded data removed]",
      "text/plain": [
       "<Figure size 432x288 with 1 Axes>"
      ]
     },
     "metadata": {
      "needs_background": "light"
     },
     "output_type": "display_data"
    }
   ],
   "source": [
    "# summarize history for accuracy\n",
    "plt.plot(history.history['accuracy'])\n",
    "plt.plot(history.history['val_accuracy'])\n",
    "plt.title('Coattention Model Dropout (0.5) accuracy')\n",
    "plt.ylabel('Accuracy')\n",
    "plt.xlabel('Epoch')\n",
    "plt.legend(['train', 'val'], loc='upper left')\n",
    "plt.show()\n",
    "# summarize history for loss\n",
    "plt.plot(history.history['loss'])\n",
    "plt.plot(history.history['val_loss'])\n",
    "plt.title('Coattention Model Dropout (0.5) loss')\n",
    "plt.ylabel('loss')\n",
    "plt.xlabel('epoch')\n",
    "plt.legend(['train', 'val'], loc='upper left')\n",
    "plt.show()"
   ]
  },
  {
   "cell_type": "markdown",
   "metadata": {},
   "source": [
    "                                           Evaluation"
   ]
  },
  {
   "cell_type": "code",
   "execution_count": 47,
   "metadata": {},
   "outputs": [
    {
     "name": "stdout",
     "output_type": "stream",
     "text": [
      "(None, 24, 512) (None, 24, 512) (None, 24, 512)\n",
      "Tensor(\"coattention_model_1/MatMul_3:0\", shape=(None, 1, 512), dtype=float32)\n",
      "Tensor(\"coattention_model_1/MatMul_4:0\", shape=(None, 1, 512), dtype=float32)\n",
      "Tensor(\"coattention_model_1/MatMul_8:0\", shape=(None, 1, 512), dtype=float32)\n",
      "Tensor(\"coattention_model_1/MatMul_9:0\", shape=(None, 1, 512), dtype=float32)\n",
      "Tensor(\"coattention_model_1/MatMul_13:0\", shape=(None, 1, 512), dtype=float32)\n",
      "Tensor(\"coattention_model_1/MatMul_14:0\", shape=(None, 1, 512), dtype=float32)\n"
     ]
    }
   ],
   "source": [
    "model_1 = Build_CoattentionModel()\n",
    "l2_alpha = 0.001\n",
    "ModelName = 'Coattention'"
   ]
  },
  {
   "cell_type": "code",
   "execution_count": 49,
   "metadata": {},
   "outputs": [
    {
     "ename": "ValueError",
     "evalue": "Cannot assign value to variable ' coattention_model_1/dense_21/kernel:0': Shape mismatch.The variable shape (1024, 13969), and the assigned value shape (1024, 1000) are incompatible.",
     "output_type": "error",
     "traceback": [
      "\u001b[1;31m---------------------------------------------------------------------------\u001b[0m",
      "\u001b[1;31mValueError\u001b[0m                                Traceback (most recent call last)",
      "\u001b[1;32m<ipython-input-49-4f5dc4a0d95e>\u001b[0m in \u001b[0;36m<module>\u001b[1;34m\u001b[0m\n\u001b[1;32m----> 1\u001b[1;33m \u001b[0mmodel_1\u001b[0m\u001b[1;33m.\u001b[0m\u001b[0mload_weights\u001b[0m\u001b[1;33m(\u001b[0m\u001b[1;34m'Models/coattention_SGD.h5'\u001b[0m\u001b[1;33m)\u001b[0m\u001b[1;33m\u001b[0m\u001b[1;33m\u001b[0m\u001b[0m\n\u001b[0m",
      "\u001b[1;32m~\\AppData\\Roaming\\Python\\Python38\\site-packages\\keras\\utils\\traceback_utils.py\u001b[0m in \u001b[0;36merror_handler\u001b[1;34m(*args, **kwargs)\u001b[0m\n\u001b[0;32m     65\u001b[0m     \u001b[1;32mexcept\u001b[0m \u001b[0mException\u001b[0m \u001b[1;32mas\u001b[0m \u001b[0me\u001b[0m\u001b[1;33m:\u001b[0m  \u001b[1;31m# pylint: disable=broad-except\u001b[0m\u001b[1;33m\u001b[0m\u001b[1;33m\u001b[0m\u001b[0m\n\u001b[0;32m     66\u001b[0m       \u001b[0mfiltered_tb\u001b[0m \u001b[1;33m=\u001b[0m \u001b[0m_process_traceback_frames\u001b[0m\u001b[1;33m(\u001b[0m\u001b[0me\u001b[0m\u001b[1;33m.\u001b[0m\u001b[0m__traceback__\u001b[0m\u001b[1;33m)\u001b[0m\u001b[1;33m\u001b[0m\u001b[1;33m\u001b[0m\u001b[0m\n\u001b[1;32m---> 67\u001b[1;33m       \u001b[1;32mraise\u001b[0m \u001b[0me\u001b[0m\u001b[1;33m.\u001b[0m\u001b[0mwith_traceback\u001b[0m\u001b[1;33m(\u001b[0m\u001b[0mfiltered_tb\u001b[0m\u001b[1;33m)\u001b[0m \u001b[1;32mfrom\u001b[0m \u001b[1;32mNone\u001b[0m\u001b[1;33m\u001b[0m\u001b[1;33m\u001b[0m\u001b[0m\n\u001b[0m\u001b[0;32m     68\u001b[0m     \u001b[1;32mfinally\u001b[0m\u001b[1;33m:\u001b[0m\u001b[1;33m\u001b[0m\u001b[1;33m\u001b[0m\u001b[0m\n\u001b[0;32m     69\u001b[0m       \u001b[1;32mdel\u001b[0m \u001b[0mfiltered_tb\u001b[0m\u001b[1;33m\u001b[0m\u001b[1;33m\u001b[0m\u001b[0m\n",
      "\u001b[1;32m~\\AppData\\Roaming\\Python\\Python38\\site-packages\\keras\\backend.py\u001b[0m in \u001b[0;36mbatch_set_value\u001b[1;34m(tuples)\u001b[0m\n\u001b[0;32m   3928\u001b[0m   \u001b[1;32mif\u001b[0m \u001b[0mtf\u001b[0m\u001b[1;33m.\u001b[0m\u001b[0mcompat\u001b[0m\u001b[1;33m.\u001b[0m\u001b[0mv1\u001b[0m\u001b[1;33m.\u001b[0m\u001b[0mexecuting_eagerly_outside_functions\u001b[0m\u001b[1;33m(\u001b[0m\u001b[1;33m)\u001b[0m\u001b[1;33m:\u001b[0m\u001b[1;33m\u001b[0m\u001b[1;33m\u001b[0m\u001b[0m\n\u001b[0;32m   3929\u001b[0m     \u001b[1;32mfor\u001b[0m \u001b[0mx\u001b[0m\u001b[1;33m,\u001b[0m \u001b[0mvalue\u001b[0m \u001b[1;32min\u001b[0m \u001b[0mtuples\u001b[0m\u001b[1;33m:\u001b[0m\u001b[1;33m\u001b[0m\u001b[1;33m\u001b[0m\u001b[0m\n\u001b[1;32m-> 3930\u001b[1;33m       \u001b[0mx\u001b[0m\u001b[1;33m.\u001b[0m\u001b[0massign\u001b[0m\u001b[1;33m(\u001b[0m\u001b[0mnp\u001b[0m\u001b[1;33m.\u001b[0m\u001b[0masarray\u001b[0m\u001b[1;33m(\u001b[0m\u001b[0mvalue\u001b[0m\u001b[1;33m,\u001b[0m \u001b[0mdtype\u001b[0m\u001b[1;33m=\u001b[0m\u001b[0mdtype_numpy\u001b[0m\u001b[1;33m(\u001b[0m\u001b[0mx\u001b[0m\u001b[1;33m)\u001b[0m\u001b[1;33m)\u001b[0m\u001b[1;33m)\u001b[0m\u001b[1;33m\u001b[0m\u001b[1;33m\u001b[0m\u001b[0m\n\u001b[0m\u001b[0;32m   3931\u001b[0m   \u001b[1;32melse\u001b[0m\u001b[1;33m:\u001b[0m\u001b[1;33m\u001b[0m\u001b[1;33m\u001b[0m\u001b[0m\n\u001b[0;32m   3932\u001b[0m     \u001b[1;32mwith\u001b[0m \u001b[0mget_graph\u001b[0m\u001b[1;33m(\u001b[0m\u001b[1;33m)\u001b[0m\u001b[1;33m.\u001b[0m\u001b[0mas_default\u001b[0m\u001b[1;33m(\u001b[0m\u001b[1;33m)\u001b[0m\u001b[1;33m:\u001b[0m\u001b[1;33m\u001b[0m\u001b[1;33m\u001b[0m\u001b[0m\n",
      "\u001b[1;31mValueError\u001b[0m: Cannot assign value to variable ' coattention_model_1/dense_21/kernel:0': Shape mismatch.The variable shape (1024, 13969), and the assigned value shape (1024, 1000) are incompatible."
     ]
    }
   ],
   "source": [
    "model_1.load_weights('Models/coattention.h5')"
   ]
  },
  {
   "cell_type": "code",
   "execution_count": 95,
   "metadata": {},
   "outputs": [],
   "source": [
    "answer_type = X_val['answer_type'].values \n",
    "answers = X_val['answers'].values "
   ]
  },
  {
   "cell_type": "code",
   "execution_count": 96,
   "metadata": {},
   "outputs": [],
   "source": [
    "question_type = X_val['question_type'].values"
   ]
  },
  {
   "cell_type": "code",
   "execution_count": 99,
   "metadata": {},
   "outputs": [],
   "source": [
    "error_dict = {  _qtype : { 'top_1' : 0,'top_2' : 0,'top_3' : 0 ,'top_5' : 0,'count' : 0 } for _qtype in np.unique(question_type) }\n",
    "actual_list = []\n",
    "pred_list = []"
   ]
  },
  {
   "cell_type": "code",
   "execution_count": null,
   "metadata": {},
   "outputs": [],
   "source": [
    "dataset_val = createDataset(image_paths_val, question_vector_val, answer_vector_val)"
   ]
  },
  {
   "cell_type": "code",
   "execution_count": 120,
   "metadata": {},
   "outputs": [
    {
     "data": {
      "text/plain": [
       "<PrefetchDataset shapes: ((<unknown>, <unknown>), (None, 1000)), types: ((tf.float32, tf.float32), tf.float32)>"
      ]
     },
     "execution_count": 120,
     "metadata": {},
     "output_type": "execute_result"
    }
   ],
   "source": [
    "dataset_train"
   ]
  },
  {
   "cell_type": "code",
   "execution_count": 106,
   "metadata": {},
   "outputs": [
    {
     "name": "stderr",
     "output_type": "stream",
     "text": [
      "0it [00:00, ?it/s]\n"
     ]
    },
    {
     "ename": "ValueError",
     "evalue": "not enough values to unpack (expected 3, got 2)",
     "output_type": "error",
     "traceback": [
      "\u001b[1;31m---------------------------------------------------------------------------\u001b[0m",
      "\u001b[1;31mValueError\u001b[0m                                Traceback (most recent call last)",
      "\u001b[1;32m<ipython-input-106-3da25692d788>\u001b[0m in \u001b[0;36m<module>\u001b[1;34m\u001b[0m\n\u001b[1;32m----> 1\u001b[1;33m \u001b[1;32mfor\u001b[0m \u001b[1;33m(\u001b[0m\u001b[0mbatch\u001b[0m\u001b[1;33m,\u001b[0m \u001b[1;33m(\u001b[0m\u001b[0mimg_tensor\u001b[0m\u001b[1;33m,\u001b[0m \u001b[0mquestion\u001b[0m\u001b[1;33m,\u001b[0m \u001b[0manswer\u001b[0m\u001b[1;33m)\u001b[0m\u001b[1;33m)\u001b[0m \u001b[1;32min\u001b[0m \u001b[0mtqdm\u001b[0m\u001b[1;33m(\u001b[0m\u001b[0menumerate\u001b[0m\u001b[1;33m(\u001b[0m\u001b[0mdataset_val\u001b[0m\u001b[1;33m)\u001b[0m\u001b[1;33m)\u001b[0m\u001b[1;33m:\u001b[0m\u001b[1;33m\u001b[0m\u001b[1;33m\u001b[0m\u001b[0m\n\u001b[0m\u001b[0;32m      2\u001b[0m     \u001b[0my_pred\u001b[0m \u001b[1;33m=\u001b[0m \u001b[0mmodel_1\u001b[0m\u001b[1;33m.\u001b[0m\u001b[0mpredict\u001b[0m\u001b[1;33m(\u001b[0m\u001b[1;33m[\u001b[0m\u001b[0mimg_tensor\u001b[0m\u001b[1;33m,\u001b[0m\u001b[0mquestion\u001b[0m\u001b[1;33m]\u001b[0m\u001b[1;33m)\u001b[0m\u001b[1;33m\u001b[0m\u001b[1;33m\u001b[0m\u001b[0m\n\u001b[0;32m      3\u001b[0m \u001b[1;33m\u001b[0m\u001b[0m\n\u001b[0;32m      4\u001b[0m     \u001b[1;32mfor\u001b[0m \u001b[0mi\u001b[0m \u001b[1;32min\u001b[0m \u001b[0mrange\u001b[0m\u001b[1;33m(\u001b[0m\u001b[0my_pred\u001b[0m\u001b[1;33m.\u001b[0m\u001b[0mshape\u001b[0m\u001b[1;33m[\u001b[0m\u001b[1;36m0\u001b[0m\u001b[1;33m]\u001b[0m\u001b[1;33m)\u001b[0m\u001b[1;33m:\u001b[0m\u001b[1;33m\u001b[0m\u001b[1;33m\u001b[0m\u001b[0m\n\u001b[0;32m      5\u001b[0m         \u001b[0m_qtype\u001b[0m \u001b[1;33m=\u001b[0m \u001b[0mquestion_type\u001b[0m\u001b[1;33m[\u001b[0m\u001b[0mi\u001b[0m\u001b[1;33m]\u001b[0m\u001b[1;33m.\u001b[0m\u001b[0mnumpy\u001b[0m\u001b[1;33m(\u001b[0m\u001b[1;33m)\u001b[0m\u001b[1;33m.\u001b[0m\u001b[0mdecode\u001b[0m\u001b[1;33m(\u001b[0m\u001b[1;34m'utf-8'\u001b[0m\u001b[1;33m)\u001b[0m\u001b[1;33m\u001b[0m\u001b[1;33m\u001b[0m\u001b[0m\n",
      "\u001b[1;31mValueError\u001b[0m: not enough values to unpack (expected 3, got 2)"
     ]
    }
   ],
   "source": [
    "for ((img_tensor, question), answer) in (dataset_val):\n",
    "    y_pred = model_1.predict([img_tensor,question])\n",
    "\n",
    "    for i in range(y_pred.shape[0]):\n",
    "        _qtype = question_type[i].numpy().decode('utf-8')\n",
    "        _atype = answer_type[i].numpy().decode('utf-8')\n",
    "        error_dict[_qtype]['count'] += 1 \n",
    "        \n",
    "        for _k in [1]:#[1,2,3,5]:\n",
    "            if _atype == 'yes/no' and _k > 1:\n",
    "                top_k = tf.math.top_k(y_pred, k = 1 ).indices.numpy()[i]\n",
    "            else:\n",
    "                top_k = tf.math.top_k(y_pred, k = _k ).indices.numpy()[i]\n",
    "\n",
    "            pred_classes = np.zeros(y_pred.shape[1])\n",
    "            pred_classes[top_k] = 1\n",
    "            actual_list.append(answers[i])\n",
    "            pred_list.append(pred_classes)\n",
    "            if np.dot(pred_classes,answer[i]) > 0:\n",
    "                error_dict[_qtype]['top_' + str(_k)] += 1"
   ]
  },
  {
   "cell_type": "code",
   "execution_count": null,
   "metadata": {},
   "outputs": [],
   "source": [
    "def model_metric(predictions, truths):\n",
    "    total = 0\n",
    "    correct_val=0.0\n",
    "    for prediction, truth in (zip(predictions, truths)):\n",
    "        truth = ast.literal_eval(truth.numpy().decode('utf-8'))#json.loads(truth.numpy().decode('utf-8').replace(\"\\'\", \"\\\"\"))\n",
    "        prediction = label_encoder.inverse_transform(np.array([prediction]))[0]\n",
    "        temp_count=0\n",
    "        total +=1\n",
    "    for _truth in truth:\n",
    "        if prediction == _truth['answer']:\n",
    "            temp_count+=1\n",
    "    # accuracy = min((# humans that provided that answer/3) , 1)\n",
    "    if temp_count>2:\n",
    "        correct_val+=1\n",
    "    else:\n",
    "        correct_val+=float(temp_count)/3\n",
    "    return (correct_val/total)*100\n",
    "\n",
    "model_metric(pred_list,actual_list)"
   ]
  },
  {
   "cell_type": "code",
   "execution_count": null,
   "metadata": {},
   "outputs": [],
   "source": [
    "df_EA  = pd.DataFrame(error_dict).T\n",
    "df_EA[\"Question_Type\"] = df_EA.index\n",
    "df_EA['Accuracy'] = df_EA['top_1']/df_EA['count'] * 100\n",
    "\n",
    "df_EA = df_EA.sort_values('Accuracy',ascending=False)\n",
    "\n",
    "ax = df_EA[['Question_Type','Accuracy']].plot.bar(stacked=False, figsize=(18,5), color='orange')\n",
    "plt.title('Question Type vs Accuract on Test Data')\n",
    "plt.show("
   ]
  },
  {
   "cell_type": "code",
   "execution_count": null,
   "metadata": {},
   "outputs": [],
   "source": []
  },
  {
   "cell_type": "code",
   "execution_count": null,
   "metadata": {},
   "outputs": [],
   "source": []
  },
  {
   "cell_type": "markdown",
   "metadata": {},
   "source": [
    "                                                                        Baseline Models tuning"
   ]
  },
  {
   "cell_type": "code",
   "execution_count": 73,
   "metadata": {},
   "outputs": [
    {
     "ename": "AttributeError",
     "evalue": "module 'bert' has no attribute 'fetch_google_bert_model'",
     "output_type": "error",
     "traceback": [
      "\u001b[1;31m---------------------------------------------------------------------------\u001b[0m",
      "\u001b[1;31mAttributeError\u001b[0m                            Traceback (most recent call last)",
      "\u001b[1;32m<ipython-input-73-75d1ee0fc19d>\u001b[0m in \u001b[0;36m<module>\u001b[1;34m\u001b[0m\n\u001b[0;32m      1\u001b[0m \u001b[0mmodel_name\u001b[0m \u001b[1;33m=\u001b[0m \u001b[1;34m\"uncased_L-12_H-768_A-12\"\u001b[0m\u001b[1;33m\u001b[0m\u001b[1;33m\u001b[0m\u001b[0m\n\u001b[1;32m----> 2\u001b[1;33m \u001b[0mmodel_dir\u001b[0m \u001b[1;33m=\u001b[0m \u001b[0mbert\u001b[0m\u001b[1;33m.\u001b[0m\u001b[0mfetch_google_bert_model\u001b[0m\u001b[1;33m(\u001b[0m\u001b[0mmodel_name\u001b[0m\u001b[1;33m,\u001b[0m \u001b[1;34m\".models\"\u001b[0m\u001b[1;33m)\u001b[0m\u001b[1;33m\u001b[0m\u001b[1;33m\u001b[0m\u001b[0m\n\u001b[0m",
      "\u001b[1;31mAttributeError\u001b[0m: module 'bert' has no attribute 'fetch_google_bert_model'"
     ]
    }
   ],
   "source": [
    "model_name = \"uncased_L-12_H-768_A-12\"\n",
    "model_dir = bert.fetch_google_bert_model(model_name, \".models\")"
   ]
  },
  {
   "cell_type": "code",
   "execution_count": 72,
   "metadata": {},
   "outputs": [],
   "source": [
    "import bert"
   ]
  },
  {
   "cell_type": "code",
   "execution_count": null,
   "metadata": {},
   "outputs": [],
   "source": []
  },
  {
   "cell_type": "code",
   "execution_count": null,
   "metadata": {},
   "outputs": [],
   "source": []
  },
  {
   "cell_type": "code",
   "execution_count": null,
   "metadata": {},
   "outputs": [],
   "source": []
  },
  {
   "cell_type": "code",
   "execution_count": null,
   "metadata": {},
   "outputs": [],
   "source": []
  },
  {
   "cell_type": "code",
   "execution_count": null,
   "metadata": {},
   "outputs": [],
   "source": []
  },
  {
   "cell_type": "code",
   "execution_count": null,
   "metadata": {},
   "outputs": [],
   "source": []
  },
  {
   "cell_type": "code",
   "execution_count": 65,
   "metadata": {},
   "outputs": [],
   "source": [
    "def callBacksList():\n",
    "    \"\"\"\n",
    "    returns list of callback's\n",
    "    \"\"\"\n",
    "    filepath = \"Models\" + ModelName + \"baseline.hdf5\"\n",
    "    checkpoint = tf.keras.callbacks.ModelCheckpoint(filepath = filepath, monitor = 'val_accuracy', verbose = 1, save_best_only = True, mode = 'auto')\n",
    "    reduce_lr = tf.keras.callbacks.ReduceLROnPlateau(monitor = 'val_accuracy', patience = 3)\n",
    "    early_stop = tf.keras.callbacks.EarlyStopping(monitor = 'val_accuracy', patience = 4, verbose = 1)\n",
    "\n",
    "    #directory for tensorboard to save evnts\n",
    "    log_dir= \"Models\" + \"logs/fit/\" + ModelName + \"/\" + datetime.datetime.now().strftime(\"%Y%m%d-%H%M%S\")\n",
    "    os.makedirs(log_dir)\n",
    "\n",
    "    print(\"TensorBoard Folder for this Execution\",log_dir)#creating TensorBoard call back,this will write all events to given folder\n",
    "    tensorboard_callback = tf.keras.callbacks.TensorBoard(log_dir = log_dir, histogram_freq = 1)\n",
    "\n",
    "    history = tf.keras.callbacks.History()\n",
    "    callbacks_list = [reduce_lr, early_stop, history, tensorboard_callback, checkpoint]\n",
    "    return callbacks_list\n",
    "\n",
    "def Build_BaseModel():\n",
    "    image_input = tf.keras.layers.Input(shape=(14,14,512))\n",
    "    question_input = tf.keras.layers.Input(shape=(question_vector_train.shape[1],))\n",
    "\n",
    "    image_conv_layer1 = tf.keras.layers.Conv2D(filters = 4096, kernel_size = 7 , strides = 1, padding = \"valid\", activation = 'relu',\n",
    "                                               kernel_initializer = tf.keras.initializers.he_normal(seed=45))(image_input)\n",
    "\n",
    "    image_flatten = tf.keras.layers.Flatten()(image_conv_layer1)\n",
    "\n",
    "    image_dense_1 = tf.keras.layers.Dense(4096, activation = tf.nn.relu, \n",
    "                                          kernel_initializer = tf.keras.initializers.he_uniform(seed=54))(image_flatten)\n",
    "    \n",
    "    image_dense_2 = tf.keras.layers.Dense(1024, activation = tf.nn.relu, \n",
    "                                          kernel_initializer = tf.keras.initializers.he_uniform(seed=32))(image_dense_1)\n",
    "\n",
    "\n",
    "    # Input 2 Pathway\n",
    "    question_emb = tf.keras.layers.Embedding(input_dim = len(tokenizer.word_index) + 1, output_dim = 300 ,name = \"Embedding_Layer\",\n",
    "                                             embeddings_initializer = tf.keras.initializers.RandomNormal(mean=0, stddev=1, seed=23))(question_input)\n",
    "\n",
    "    question_lstm = tf.keras.layers.LSTM(1024, \n",
    "                                         kernel_initializer = tf.keras.initializers.glorot_uniform(seed=26),\n",
    "                                         recurrent_initializer = tf.keras.initializers.orthogonal(seed=54),\n",
    "                                         bias_initializer=tf.keras.initializers.zeros())(question_emb)\n",
    "\n",
    "    question_flatten = tf.keras.layers.Flatten(name=\"Flatten_lstm\")(question_lstm)\n",
    "\n",
    "    \n",
    "    image_question = tf.keras.layers.Multiply()([image_dense_2, question_flatten])\n",
    "\n",
    "\n",
    "    image_question_dense_1 = tf.keras.layers.Dense(1000, activation = tf.nn.relu,\n",
    "                                                    kernel_initializer = tf.keras.initializers.he_uniform(seed=19))(image_question)\n",
    "    \n",
    "    image_question_dense_2 = tf.keras.layers.Dense(1000, activation = tf.nn.relu, \n",
    "                                                   kernel_initializer = tf.keras.initializers.he_uniform(seed=28))(image_question_dense_1)\n",
    "\n",
    "    output = tf.keras.layers.Dense(len(ans_vocab), activation=tf.nn.softmax, \n",
    "                                   kernel_initializer = tf.keras.initializers.glorot_normal(seed=15))(image_question_dense_2)\n",
    "\n",
    "    # Create Model\n",
    "    model = tf.keras.models.Model(inputs = [image_input, question_input], outputs = output)\n",
    "    # Compile\n",
    "    model.compile(optimizer = 'tf.keras.optimizers.SGD()', loss = 'categorical_crossentropy', metrics = ['accuracy'])\n",
    "    return model"
   ]
  },
  {
   "cell_type": "code",
   "execution_count": null,
   "metadata": {},
   "outputs": [],
   "source": [
    "l2_alpha = 0.001\n",
    "ModelName =\"BaselineModel\"\n",
    "model = Build_BaseModel()"
   ]
  },
  {
   "cell_type": "code",
   "execution_count": null,
   "metadata": {},
   "outputs": [],
   "source": [
    "history = model.fit(dataset_train, epochs = 20, steps_per_epoch=100, validation_data=dataset_val,validation_steps=100)"
   ]
  },
  {
   "cell_type": "code",
   "execution_count": null,
   "metadata": {},
   "outputs": [],
   "source": [
    "model.save('Models/baseline_sgd.h5')"
   ]
  },
  {
   "cell_type": "code",
   "execution_count": null,
   "metadata": {},
   "outputs": [],
   "source": [
    "# summarize history for accuracy\n",
    "plt.plot(history.history['accuracy'])\n",
    "plt.plot(history.history['val_accuracy'])\n",
    "plt.title('Baseline SGD')\n",
    "plt.ylabel('Accuracy')\n",
    "plt.xlabel('Epoch')\n",
    "plt.legend(['train', 'val'], loc='upper left')\n",
    "plt.show()\n",
    "# summarize history for loss\n",
    "plt.plot(history.history['loss'])\n",
    "plt.plot(history.history['val_loss'])\n",
    "plt.title('Baseline SGD')\n",
    "plt.ylabel('loss')\n",
    "plt.xlabel('epoch')\n",
    "plt.legend(['train', 'val'], loc='upper left')\n",
    "plt.show()"
   ]
  },
  {
   "cell_type": "code",
   "execution_count": null,
   "metadata": {},
   "outputs": [],
   "source": []
  },
  {
   "cell_type": "code",
   "execution_count": null,
   "metadata": {},
   "outputs": [],
   "source": [
    "def callBacksList():\n",
    "    \"\"\"\n",
    "    returns list of callback's\n",
    "    \"\"\"\n",
    "    filepath = \"Models\" + ModelName + \"bert.hdf5\"\n",
    "    checkpoint = tf.keras.callbacks.ModelCheckpoint(filepath = filepath, monitor = 'val_accuracy', verbose = 1, save_best_only = True, mode = 'auto')\n",
    "    reduce_lr = tf.keras.callbacks.ReduceLROnPlateau(monitor = 'val_accuracy', patience = 3)\n",
    "    early_stop = tf.keras.callbacks.EarlyStopping(monitor = 'val_accuracy', patience = 4, verbose = 1)\n",
    "\n",
    "    #directory for tensorboard to save evnts\n",
    "    log_dir= \"Models\" + \"logs/fit/\" + ModelName + \"/\" + datetime.datetime.now().strftime(\"%Y%m%d-%H%M%S\")\n",
    "    os.makedirs(log_dir)\n",
    "\n",
    "    print(\"TensorBoard Folder for this Execution\",log_dir)#creating TensorBoard call back,this will write all events to given folder\n",
    "    tensorboard_callback = tf.keras.callbacks.TensorBoard(log_dir = log_dir, histogram_freq = 1)\n",
    "\n",
    "    history = tf.keras.callbacks.History()\n",
    "    callbacks_list = [reduce_lr, early_stop, history, tensorboard_callback, checkpoint]\n",
    "    return callbacks_list"
   ]
  },
  {
   "cell_type": "code",
   "execution_count": null,
   "metadata": {},
   "outputs": [],
   "source": [
    "def Build_BertModel():\n",
    "    l_bert.trainable = False\n",
    "    \n",
    "    image_input = tf.keras.layers.Input(shape=(14,14, 512))\n",
    "    question_input = tf.keras.layers.Input(shape=(question_vector_train.shape[1],))\n",
    "\n",
    "    image_flatten = tf.keras.layers.Flatten()(question_input)\n",
    "\n",
    "    # Input 2 Pathway\n",
    "    question_emb = l_bert(question_input)\n",
    "\n",
    "    question_flatten = tf.keras.layers.Flatten(name=\"Flatten_lstm\")(question_emb)\n",
    "\n",
    "    image_question = tf.keras.layers.concatenate([image_flatten, question_flatten])\n",
    "\n",
    "    bn = tf.keras.layers.BatchNormalization()(image_question)\n",
    "    dropout = tf.keras.layers.Dropout(0.5)(bn)\n",
    "    \n",
    "    output = tf.keras.layers.Dense(len(ans_vocab), activation='softmax', \n",
    "                                   kernel_initializer = tf.keras.initializers.he_normal(seed=42))(dropout)\n",
    "\n",
    "    # Create Model\n",
    "    model = tf.keras.models.Model(inputs = [image_input, question_input], outputs = output)\n",
    "    \n",
    "    return model\n"
   ]
  },
  {
   "cell_type": "code",
   "execution_count": null,
   "metadata": {},
   "outputs": [],
   "source": [
    "l2_alpha = 0.001\n",
    "ModelName =\"BaselineModel\"\n",
    "model = Build_BertModel()\n",
    "history = model.fit(dataset_train, epochs = 20, steps_per_epoch=100, validation_data=dataset_val,validation_steps=100)"
   ]
  }
 ],
 "metadata": {
  "kernelspec": {
   "display_name": "Python 3",
   "language": "python",
   "name": "python3"
  },
  "language_info": {
   "codemirror_mode": {
    "name": "ipython",
    "version": 3
   },
   "file_extension": ".py",
   "mimetype": "text/x-python",
   "name": "python",
   "nbconvert_exporter": "python",
   "pygments_lexer": "ipython3",
   "version": "3.8.5"
  }
 },
 "nbformat": 4,
 "nbformat_minor": 4
}
